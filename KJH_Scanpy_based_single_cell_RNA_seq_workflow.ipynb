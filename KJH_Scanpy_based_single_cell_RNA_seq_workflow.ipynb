{
  "cells": [
    {
      "cell_type": "markdown",
      "metadata": {
        "id": "view-in-github",
        "colab_type": "text"
      },
      "source": [
        "<a href=\"https://colab.research.google.com/github/paperhwi/Single_Cell_Python/blob/main/KJH_Scanpy_based_single_cell_RNA_seq_workflow.ipynb\" target=\"_parent\"><img src=\"https://colab.research.google.com/assets/colab-badge.svg\" alt=\"Open In Colab\"/></a>"
      ]
    },
    {
      "cell_type": "markdown",
      "id": "d8196ad2",
      "metadata": {
        "id": "d8196ad2"
      },
      "source": [
        "# Importing and Visualizing 10x Genomics scRNA-seq Dataset with Scanpy"
      ]
    },
    {
      "cell_type": "markdown",
      "id": "f22bcf9d",
      "metadata": {
        "id": "f22bcf9d"
      },
      "source": [
        "\n",
        "This notebook demonstrates how to:\n",
        "1. Import a 10x Genomics scRNA-seq dataset using Scanpy\n",
        "2. Understand the dataset structure\n",
        "3. Calculate and visualize quality control (QC) metrics\n",
        "\n",
        "We will use the PBMC 3k dataset available through Scanpy as an example.\n"
      ]
    },
    {
      "cell_type": "markdown",
      "source": [
        "2025.07.12 AM 10:21 - trial 2.0"
      ],
      "metadata": {
        "id": "8kLWaE3zOG33"
      },
      "id": "8kLWaE3zOG33"
    },
    {
      "cell_type": "code",
      "source": [
        "pip install scanpy"
      ],
      "metadata": {
        "colab": {
          "base_uri": "https://localhost:8080/"
        },
        "id": "N-eTiTQYM4MB",
        "outputId": "b33e9aff-9eaa-4956-f1de-910871c0875e"
      },
      "id": "N-eTiTQYM4MB",
      "execution_count": null,
      "outputs": [
        {
          "output_type": "stream",
          "name": "stdout",
          "text": [
            "Collecting scanpy\n",
            "  Downloading scanpy-1.11.3-py3-none-any.whl.metadata (9.0 kB)\n",
            "Collecting anndata>=0.8 (from scanpy)\n",
            "  Downloading anndata-0.12.0-py3-none-any.whl.metadata (9.6 kB)\n",
            "Requirement already satisfied: h5py>=3.7.0 in /usr/local/lib/python3.11/dist-packages (from scanpy) (3.14.0)\n",
            "Requirement already satisfied: joblib in /usr/local/lib/python3.11/dist-packages (from scanpy) (1.5.1)\n",
            "Collecting legacy-api-wrap>=1.4.1 (from scanpy)\n",
            "  Downloading legacy_api_wrap-1.4.1-py3-none-any.whl.metadata (2.1 kB)\n",
            "Requirement already satisfied: matplotlib>=3.7.5 in /usr/local/lib/python3.11/dist-packages (from scanpy) (3.10.0)\n",
            "Requirement already satisfied: natsort in /usr/local/lib/python3.11/dist-packages (from scanpy) (8.4.0)\n",
            "Requirement already satisfied: networkx>=2.7.1 in /usr/local/lib/python3.11/dist-packages (from scanpy) (3.5)\n",
            "Requirement already satisfied: numba>=0.57.1 in /usr/local/lib/python3.11/dist-packages (from scanpy) (0.60.0)\n",
            "Requirement already satisfied: numpy>=1.24.1 in /usr/local/lib/python3.11/dist-packages (from scanpy) (2.0.2)\n",
            "Requirement already satisfied: packaging>=21.3 in /usr/local/lib/python3.11/dist-packages (from scanpy) (25.0)\n",
            "Requirement already satisfied: pandas>=1.5.3 in /usr/local/lib/python3.11/dist-packages (from scanpy) (2.2.2)\n",
            "Requirement already satisfied: patsy!=1.0.0 in /usr/local/lib/python3.11/dist-packages (from scanpy) (1.0.1)\n",
            "Requirement already satisfied: pynndescent>=0.5.13 in /usr/local/lib/python3.11/dist-packages (from scanpy) (0.5.13)\n",
            "Requirement already satisfied: scikit-learn>=1.1.3 in /usr/local/lib/python3.11/dist-packages (from scanpy) (1.6.1)\n",
            "Requirement already satisfied: scipy<1.16.0,>=1.8.1 in /usr/local/lib/python3.11/dist-packages (from scanpy) (1.15.3)\n",
            "Requirement already satisfied: seaborn>=0.13.2 in /usr/local/lib/python3.11/dist-packages (from scanpy) (0.13.2)\n",
            "Collecting session-info2 (from scanpy)\n",
            "  Downloading session_info2-0.1.2-py3-none-any.whl.metadata (2.5 kB)\n",
            "Requirement already satisfied: statsmodels>=0.14.4 in /usr/local/lib/python3.11/dist-packages (from scanpy) (0.14.5)\n",
            "Requirement already satisfied: tqdm in /usr/local/lib/python3.11/dist-packages (from scanpy) (4.67.1)\n",
            "Requirement already satisfied: typing-extensions in /usr/local/lib/python3.11/dist-packages (from scanpy) (4.14.1)\n",
            "Requirement already satisfied: umap-learn>=0.5.6 in /usr/local/lib/python3.11/dist-packages (from scanpy) (0.5.9.post2)\n",
            "Collecting array-api-compat>=1.7.1 (from anndata>=0.8->scanpy)\n",
            "  Downloading array_api_compat-1.12.0-py3-none-any.whl.metadata (2.5 kB)\n",
            "Collecting zarr!=3.0.*,>=2.18.7 (from anndata>=0.8->scanpy)\n",
            "  Downloading zarr-3.1.0-py3-none-any.whl.metadata (10 kB)\n",
            "Requirement already satisfied: contourpy>=1.0.1 in /usr/local/lib/python3.11/dist-packages (from matplotlib>=3.7.5->scanpy) (1.3.2)\n",
            "Requirement already satisfied: cycler>=0.10 in /usr/local/lib/python3.11/dist-packages (from matplotlib>=3.7.5->scanpy) (0.12.1)\n",
            "Requirement already satisfied: fonttools>=4.22.0 in /usr/local/lib/python3.11/dist-packages (from matplotlib>=3.7.5->scanpy) (4.58.5)\n",
            "Requirement already satisfied: kiwisolver>=1.3.1 in /usr/local/lib/python3.11/dist-packages (from matplotlib>=3.7.5->scanpy) (1.4.8)\n",
            "Requirement already satisfied: pillow>=8 in /usr/local/lib/python3.11/dist-packages (from matplotlib>=3.7.5->scanpy) (11.2.1)\n",
            "Requirement already satisfied: pyparsing>=2.3.1 in /usr/local/lib/python3.11/dist-packages (from matplotlib>=3.7.5->scanpy) (3.2.3)\n",
            "Requirement already satisfied: python-dateutil>=2.7 in /usr/local/lib/python3.11/dist-packages (from matplotlib>=3.7.5->scanpy) (2.9.0.post0)\n",
            "Requirement already satisfied: llvmlite<0.44,>=0.43.0dev0 in /usr/local/lib/python3.11/dist-packages (from numba>=0.57.1->scanpy) (0.43.0)\n",
            "Requirement already satisfied: pytz>=2020.1 in /usr/local/lib/python3.11/dist-packages (from pandas>=1.5.3->scanpy) (2025.2)\n",
            "Requirement already satisfied: tzdata>=2022.7 in /usr/local/lib/python3.11/dist-packages (from pandas>=1.5.3->scanpy) (2025.2)\n",
            "Requirement already satisfied: threadpoolctl>=3.1.0 in /usr/local/lib/python3.11/dist-packages (from scikit-learn>=1.1.3->scanpy) (3.6.0)\n",
            "Requirement already satisfied: six>=1.5 in /usr/local/lib/python3.11/dist-packages (from python-dateutil>=2.7->matplotlib>=3.7.5->scanpy) (1.17.0)\n",
            "Collecting donfig>=0.8 (from zarr!=3.0.*,>=2.18.7->anndata>=0.8->scanpy)\n",
            "  Downloading donfig-0.8.1.post1-py3-none-any.whl.metadata (5.0 kB)\n",
            "Collecting numcodecs>=0.14 (from numcodecs[crc32c]>=0.14->zarr!=3.0.*,>=2.18.7->anndata>=0.8->scanpy)\n",
            "  Downloading numcodecs-0.16.1-cp311-cp311-manylinux_2_17_x86_64.manylinux2014_x86_64.whl.metadata (3.3 kB)\n",
            "Requirement already satisfied: pyyaml in /usr/local/lib/python3.11/dist-packages (from donfig>=0.8->zarr!=3.0.*,>=2.18.7->anndata>=0.8->scanpy) (6.0.2)\n",
            "Collecting crc32c>=2.7 (from numcodecs[crc32c]>=0.14->zarr!=3.0.*,>=2.18.7->anndata>=0.8->scanpy)\n",
            "  Downloading crc32c-2.7.1-cp311-cp311-manylinux_2_5_x86_64.manylinux1_x86_64.manylinux_2_17_x86_64.manylinux2014_x86_64.whl.metadata (7.3 kB)\n",
            "Downloading scanpy-1.11.3-py3-none-any.whl (2.1 MB)\n",
            "\u001b[2K   \u001b[90m━━━━━━━━━━━━━━━━━━━━━━━━━━━━━━━━━━━━━━━━\u001b[0m \u001b[32m2.1/2.1 MB\u001b[0m \u001b[31m19.6 MB/s\u001b[0m eta \u001b[36m0:00:00\u001b[0m\n",
            "\u001b[?25hDownloading anndata-0.12.0-py3-none-any.whl (168 kB)\n",
            "\u001b[2K   \u001b[90m━━━━━━━━━━━━━━━━━━━━━━━━━━━━━━━━━━━━━━━━\u001b[0m \u001b[32m168.6/168.6 kB\u001b[0m \u001b[31m6.9 MB/s\u001b[0m eta \u001b[36m0:00:00\u001b[0m\n",
            "\u001b[?25hDownloading legacy_api_wrap-1.4.1-py3-none-any.whl (10.0 kB)\n",
            "Downloading session_info2-0.1.2-py3-none-any.whl (14 kB)\n",
            "Downloading array_api_compat-1.12.0-py3-none-any.whl (58 kB)\n",
            "\u001b[2K   \u001b[90m━━━━━━━━━━━━━━━━━━━━━━━━━━━━━━━━━━━━━━━━\u001b[0m \u001b[32m58.2/58.2 kB\u001b[0m \u001b[31m3.0 MB/s\u001b[0m eta \u001b[36m0:00:00\u001b[0m\n",
            "\u001b[?25hDownloading zarr-3.1.0-py3-none-any.whl (254 kB)\n",
            "\u001b[2K   \u001b[90m━━━━━━━━━━━━━━━━━━━━━━━━━━━━━━━━━━━━━━━━\u001b[0m \u001b[32m254.1/254.1 kB\u001b[0m \u001b[31m11.5 MB/s\u001b[0m eta \u001b[36m0:00:00\u001b[0m\n",
            "\u001b[?25hDownloading donfig-0.8.1.post1-py3-none-any.whl (21 kB)\n",
            "Downloading numcodecs-0.16.1-cp311-cp311-manylinux_2_17_x86_64.manylinux2014_x86_64.whl (8.8 MB)\n",
            "\u001b[2K   \u001b[90m━━━━━━━━━━━━━━━━━━━━━━━━━━━━━━━━━━━━━━━━\u001b[0m \u001b[32m8.8/8.8 MB\u001b[0m \u001b[31m45.2 MB/s\u001b[0m eta \u001b[36m0:00:00\u001b[0m\n",
            "\u001b[?25hDownloading crc32c-2.7.1-cp311-cp311-manylinux_2_5_x86_64.manylinux1_x86_64.manylinux_2_17_x86_64.manylinux2014_x86_64.whl (53 kB)\n",
            "\u001b[2K   \u001b[90m━━━━━━━━━━━━━━━━━━━━━━━━━━━━━━━━━━━━━━━━\u001b[0m \u001b[32m53.7/53.7 kB\u001b[0m \u001b[31m2.7 MB/s\u001b[0m eta \u001b[36m0:00:00\u001b[0m\n",
            "\u001b[?25hInstalling collected packages: session-info2, numcodecs, legacy-api-wrap, donfig, crc32c, array-api-compat, zarr, anndata, scanpy\n",
            "Successfully installed anndata-0.12.0 array-api-compat-1.12.0 crc32c-2.7.1 donfig-0.8.1.post1 legacy-api-wrap-1.4.1 numcodecs-0.16.1 scanpy-1.11.3 session-info2-0.1.2 zarr-3.1.0\n"
          ]
        }
      ]
    },
    {
      "cell_type": "code",
      "execution_count": null,
      "id": "bdded27c",
      "metadata": {
        "id": "bdded27c"
      },
      "outputs": [],
      "source": [
        "import scanpy as sc\n",
        "import matplotlib.pyplot as plt\n",
        "import seaborn as sns\n",
        "import os\n",
        "import numpy as np\n",
        "import pandas as pd\n",
        "# Set default Scanpy plotting style\n",
        "sc.set_figure_params(scanpy=True, dpi=100)\n",
        "#increase the default dpi into 300 for publication\n"
      ]
    },
    {
      "cell_type": "markdown",
      "id": "d1dd5b72",
      "metadata": {
        "id": "d1dd5b72"
      },
      "source": [
        "## Step 1: Load the 10x Genomics Dataset"
      ]
    },
    {
      "cell_type": "markdown",
      "id": "1a11d350",
      "metadata": {
        "id": "1a11d350"
      },
      "source": [
        "\n",
        "We will load a small 10x Genomics dataset bundled in Scanpy for demonstration purposes.\n",
        "This uses `sc.read_10x_mtx()` to import the matrix file format typically produced by Cell Ranger.\n"
      ]
    },
    {
      "cell_type": "code",
      "source": [
        "print(\"Hello World\")"
      ],
      "metadata": {
        "colab": {
          "base_uri": "https://localhost:8080/"
        },
        "id": "IRd57npswUQ_",
        "outputId": "8fb552dc-05de-429a-fb6a-47feeacff3cd"
      },
      "id": "IRd57npswUQ_",
      "execution_count": null,
      "outputs": [
        {
          "output_type": "stream",
          "name": "stdout",
          "text": [
            "Hello World\n"
          ]
        }
      ]
    },
    {
      "cell_type": "code",
      "source": [
        "list(GSE145.csv)"
      ],
      "metadata": {
        "id": "FFdhFRP8wUOo"
      },
      "id": "FFdhFRP8wUOo",
      "execution_count": null,
      "outputs": []
    },
    {
      "cell_type": "code",
      "source": [],
      "metadata": {
        "id": "tKwRP9wJwUMT"
      },
      "id": "tKwRP9wJwUMT",
      "execution_count": null,
      "outputs": []
    },
    {
      "cell_type": "code",
      "source": [],
      "metadata": {
        "id": "fCHOc3WywUDv"
      },
      "id": "fCHOc3WywUDv",
      "execution_count": null,
      "outputs": []
    },
    {
      "cell_type": "code",
      "source": [
        "/content/GSE175851_count_table.csv.gz"
      ],
      "metadata": {
        "id": "hJai2o6tQWbo"
      },
      "id": "hJai2o6tQWbo",
      "execution_count": null,
      "outputs": []
    },
    {
      "cell_type": "code",
      "execution_count": null,
      "id": "37b909ab",
      "metadata": {
        "id": "37b909ab"
      },
      "outputs": [],
      "source": [
        "# Load the data\n",
        "adata = sc.read_10x_mtx( ' ',\n",
        "    var_names='gene_symbols',\n",
        "    cache=True\n",
        ")\n",
        "adata.var_names_make_unique()\n"
      ]
    },
    {
      "cell_type": "code",
      "source": [],
      "metadata": {
        "id": "f8rT8p94PgPp"
      },
      "id": "f8rT8p94PgPp",
      "execution_count": null,
      "outputs": []
    },
    {
      "cell_type": "markdown",
      "id": "1964c3fe",
      "metadata": {
        "id": "1964c3fe"
      },
      "source": [
        "## Exercise dataset inside the Scanpy package"
      ]
    },
    {
      "cell_type": "code",
      "execution_count": null,
      "id": "fedb33e5",
      "metadata": {
        "id": "fedb33e5",
        "colab": {
          "base_uri": "https://localhost:8080/",
          "height": 49,
          "referenced_widgets": [
            "452586dce25744f5b353217f1642e9a0",
            "426d00b08e554bdb9744d12e77d354e3",
            "90624f5ed0e64b0e99f6f83dbd675c4b",
            "76252671e11341388b53aa756a0cd4bf",
            "36249594124a4217be0a6a6a5bba1e21",
            "cbd097cf663f45ac84b65fcbe67f62ca",
            "26e4ecdafdcd422ca377b7f5e14c0f7a",
            "2f7a86e0274840bbb17ae9f78b779c1e",
            "3a13703b807e4a34a3b39aa83a83183f",
            "70178ac6883d45568e116eef458395de",
            "7caf4d99172047c1bc0daa4f8f3063c4"
          ]
        },
        "outputId": "58d7d585-7b27-4a93-b685-8ef90fc81230"
      },
      "outputs": [
        {
          "output_type": "display_data",
          "data": {
            "text/plain": [
              "  0%|          | 0.00/9.82M [00:00<?, ?B/s]"
            ],
            "application/vnd.jupyter.widget-view+json": {
              "version_major": 2,
              "version_minor": 0,
              "model_id": "452586dce25744f5b353217f1642e9a0"
            }
          },
          "metadata": {}
        }
      ],
      "source": [
        "adata = sc.datasets.paul15()\n"
      ]
    },
    {
      "cell_type": "markdown",
      "id": "464ff582",
      "metadata": {
        "id": "464ff582"
      },
      "source": [
        "## Step 2: Understand the Structure of the Data"
      ]
    },
    {
      "cell_type": "markdown",
      "id": "4b4109be",
      "metadata": {
        "id": "4b4109be"
      },
      "source": [
        "\n",
        "We inspect the number of genes and cells in the dataset and check for any structural information.\n",
        "\n",
        "The dataset must be consists of obs and vars, and each should be annotated for cells and genes\n",
        "\n",
        "Overall, the dataset should be the cell X gene shape, in order to analyze the dataset as single cell RNA seq library\n"
      ]
    },
    {
      "cell_type": "code",
      "source": [
        "adata.obs"
      ],
      "metadata": {
        "colab": {
          "base_uri": "https://localhost:8080/",
          "height": 406
        },
        "id": "5A5lpD1jRYep",
        "outputId": "eac616e1-de0d-40e5-99da-dc31d8fb7f3a"
      },
      "id": "5A5lpD1jRYep",
      "execution_count": null,
      "outputs": [
        {
          "output_type": "execute_result",
          "data": {
            "text/plain": [
              "Empty DataFrame\n",
              "Columns: []\n",
              "Index: [run1.TTACCTCC.AAACGATC.ATGTTGGC, run1.TTACCTCC.AGCGTGGT.GTACCTTG, run1.TTACCTCC.AAATAGCA.AACAATCC, run1.TTACCTCC.ATCAATCG.CCTGACAC, run1.TTACCTCC.TATCTGTC.TTTGGGAG, run1.TTACCTCC.TACGTTCG.CTTCAGGT, run1.TTACCTCC.GACACAAA.ACAGCGGA, run1.TTACCTCC.AACGATTT.CGCTAGTC, run1.TTACCTCC.GATGCAGA.TCCCTGAT, run1.TTACCTCC.AAGTATTG.AGCTACGG, run1.TTACCTCC.TATTAGCG.GGGTTGGT, run1.TTACCTCC.CTGAAGGG.GACGATGG, run1.TTACCTCC.ACTTCGCT.CAGGTGTC, run1.TTACCTCC.AGCGTGGT.AATGACCC, run1.TTACCTCC.GTGCCCAT.CGGGCTTT, run1.TTACCTCC.ACTACCCG.AGACACCA, run1.TTACCTCC.GAGTGTAC.GAAGGCTT, run1.TTACCTCC.AGCTCCAC.TTCCGAGT, run1.TTACCTCC.AAGTATTG.TCTCAACC, run1.TTACCTCC.TCCAGAAG.CTTCAGGT, run1.TTACCTCC.CTCCCAAA.ACCACGCT, run1.TTACCTCC.CTGTGACC.TTGTGACT, run1.TTACCTCC.TGACGTCG.AAATGTCG, run1.TTACCTCC.GGAGTAAG.TGTAAAGG, run1.TTACCTCC.AAGGGACC.GTTTACGT, run1.TTACCTCC.AAACTACA.ACAGCGGA, run1.TTACCTCC.CTTAGGCC.TCGGTTTA, run1.TTACCTCC.AAGAAGGT.CTCGATGC, run1.TTACCTCC.CGTTTCGT.CTTTAATC, run1.TTACCTCC.CAATTCTC.TTCGTTCC, run1.TTACCTCC.CCGTCTTA.GTCAATAC, run1.TTACCTCC.AACTCAGT.TAGAAATG, run1.TTACCTCC.CCATATGA.AGAGACTA, run1.TTACCTCC.CGAAACTC.TGGTTTCT, run1.TTACCTCC.AACGTTAC.AATTCCCA, run1.TTACCTCC.CACAACCT.AGGATTCA, run1.TTACCTCC.ATGGTCTG.TTCCAGAC, run1.TTACCTCC.AATGTATG.CACAAGGC, run1.TTACCTCC.GGTCTTTC.GGTTAGTG, run1.TTACCTCC.TCAAGGCG.GGTGGGAT, run1.TTACCTCC.GTTACTAG.CCGCTGTT, run1.TTACCTCC.AGCACGTA.GGGAAGGT, run1.TTACCTCC.AGTGCTTC.CTCCGCAT, run1.TTACCTCC.AAAGTCAT.CAGATTAC, run1.TTACCTCC.TACGTTCG.ATATACCT, run1.TTACCTCC.GCGTGCAA.GTACACTC, run1.TTACCTCC.AGGGTAAA.CAGACCAT, run1.TTACCTCC.AACAGCGG.TAGTCTAG, run1.TTACCTCC.ATTCTGAG.TGTTCCAG, run1.TTACCTCC.ATCAGGGA.AACCCTTG, run1.TTACCTCC.AGAAGCTT.TCCCGTAG, run1.TTACCTCC.TCGTGGGT.AGCGCGAT, run1.TTACCTCC.CCGACTTT.CCTATTCA, run1.TTACCTCC.ATTCTGAG.TCATATGG, run1.TTACCTCC.ACTGGTCA.CGGAATTT, run1.TTACCTCC.AAGGGACC.ATGACCGA, run1.TTACCTCC.ATCAGGGA.TGTGTCCT, run1.TTACCTCC.CTTCTACG.GATGTATT, run1.TTACCTCC.AATCCGGC.GTACACTC, run1.TTACCTCC.GGTAAATC.TTAGTCCG, run1.TTACCTCC.GCACTCAG.TCCCTGAT, run1.TTACCTCC.GTCTTCCT.AAGATTGT, run1.TTACCTCC.ATGGGCTC.TTGGACTT, run1.TTACCTCC.GCTATGGG.AAACCTCC, run1.TTACCTCC.CCTATTTA.TTGCACGC, run1.TTACCTCC.ATAGATGT.TGGTTTCT, run1.TTACCTCC.TCCGACAC.ATGTTGGC, run1.TTACCTCC.TAAGGGCC.AAATCGTT, run1.TTACCTCC.GGGATTAC.AGTGAAAG, run1.TTACCTCC.AGTTTGTA.AGAACGGG, run1.TTACCTCC.GTCTGGAA.ATACTCTT, run1.TTACCTCC.TAGTCTCT.GAAAGACC, run1.TTACCTCC.ACGGAGCA.GCGTTGCT, run1.TTACCTCC.CAAGGAAT.TTGAGGGT, run1.TTACCTCC.ATAACAGG.CGATTGAT, run1.TTACCTCC.GGTAGCCA.ACTGAGTT, run1.TTACCTCC.AGGCCGAA.GAGAATTG, run1.TTACCTCC.AAACGTGA.GGGAACGA, run1.TTACCTCC.GTCTAATC.CGGACAAC, run1.TTACCTCC.TACCGCTC.AAAGCCTA, run1.TTACCTCC.GGGTCTAG.ACCTTGCC, run1.TTACCTCC.GCCTGGTA.GTTGTCAT, run1.TTACCTCC.CTTTATCC.CGCTAGTC, run1.TTACCTCC.ACTACCCG.CTCCGCAT, run1.TTACCTCC.AGTCACAA.TCTCAACC, run1.TTACCTCC.TGGTGTCT.CGTATCGG, run1.TTACCTCC.TAGTCTCT.AGGCAACG, run1.TTACCTCC.CCTACGCT.AAGTAATC, run1.TTACCTCC.TCGTGGGT.TTCGTTCC, run1.TTACCTCC.ACAGGCCA.TGCGACAG, run1.TTACCTCC.TCCAGAAG.GTTGCACG, run1.TTACCTCC.AAACTGTG.GGGTGTAT, run1.TTACCTCC.CACAAGTA.AGACACCA, run1.TTACCTCC.GATTACTT.AAACCTCC, run1.TTACCTCC.GAGTGTAC.ACGTATAC, run1.TTACCTCC.AAACGATC.ATGAAGCA, run1.TTACCTCC.AGAAGCTT.TGATGCCC, run1.TTACCTCC.ATCTTGGC.AGAGGTGG, run1.TTACCTCC.TAAACCGA.CCAACCGT, run1.TTACCTCC.GGGTCATT.AACCTGAC, ...]\n",
              "\n",
              "[20811 rows x 0 columns]"
            ],
            "text/html": [
              "\n",
              "  <div id=\"df-a38f1086-0337-4af2-90d2-f989caf61f87\" class=\"colab-df-container\">\n",
              "    <div>\n",
              "<style scoped>\n",
              "    .dataframe tbody tr th:only-of-type {\n",
              "        vertical-align: middle;\n",
              "    }\n",
              "\n",
              "    .dataframe tbody tr th {\n",
              "        vertical-align: top;\n",
              "    }\n",
              "\n",
              "    .dataframe thead th {\n",
              "        text-align: right;\n",
              "    }\n",
              "</style>\n",
              "<table border=\"1\" class=\"dataframe\">\n",
              "  <thead>\n",
              "    <tr style=\"text-align: right;\">\n",
              "      <th></th>\n",
              "    </tr>\n",
              "  </thead>\n",
              "  <tbody>\n",
              "    <tr>\n",
              "      <th>run1.TTACCTCC.AAACGATC.ATGTTGGC</th>\n",
              "    </tr>\n",
              "    <tr>\n",
              "      <th>run1.TTACCTCC.AGCGTGGT.GTACCTTG</th>\n",
              "    </tr>\n",
              "    <tr>\n",
              "      <th>run1.TTACCTCC.AAATAGCA.AACAATCC</th>\n",
              "    </tr>\n",
              "    <tr>\n",
              "      <th>run1.TTACCTCC.ATCAATCG.CCTGACAC</th>\n",
              "    </tr>\n",
              "    <tr>\n",
              "      <th>run1.TTACCTCC.TATCTGTC.TTTGGGAG</th>\n",
              "    </tr>\n",
              "    <tr>\n",
              "      <th>...</th>\n",
              "    </tr>\n",
              "    <tr>\n",
              "      <th>run3.CGCATTCT.TACCTCCC.CGGCACAT</th>\n",
              "    </tr>\n",
              "    <tr>\n",
              "      <th>run3.CGCATTCT.ATTGGCCC.TACTTGTG</th>\n",
              "    </tr>\n",
              "    <tr>\n",
              "      <th>run3.CGCATTCT.ACATGGAC.TGCAAGGG</th>\n",
              "    </tr>\n",
              "    <tr>\n",
              "      <th>run3.CGCATTCT.AACGCCAA.ATGGAAAT</th>\n",
              "    </tr>\n",
              "    <tr>\n",
              "      <th>run3.CGCATTCT.AATGGCGT.GACGATGG</th>\n",
              "    </tr>\n",
              "  </tbody>\n",
              "</table>\n",
              "<p>20811 rows × 0 columns</p>\n",
              "</div>\n",
              "    <div class=\"colab-df-buttons\">\n",
              "\n",
              "  <div class=\"colab-df-container\">\n",
              "    <button class=\"colab-df-convert\" onclick=\"convertToInteractive('df-a38f1086-0337-4af2-90d2-f989caf61f87')\"\n",
              "            title=\"Convert this dataframe to an interactive table.\"\n",
              "            style=\"display:none;\">\n",
              "\n",
              "  <svg xmlns=\"http://www.w3.org/2000/svg\" height=\"24px\" viewBox=\"0 -960 960 960\">\n",
              "    <path d=\"M120-120v-720h720v720H120Zm60-500h600v-160H180v160Zm220 220h160v-160H400v160Zm0 220h160v-160H400v160ZM180-400h160v-160H180v160Zm440 0h160v-160H620v160ZM180-180h160v-160H180v160Zm440 0h160v-160H620v160Z\"/>\n",
              "  </svg>\n",
              "    </button>\n",
              "\n",
              "  <style>\n",
              "    .colab-df-container {\n",
              "      display:flex;\n",
              "      gap: 12px;\n",
              "    }\n",
              "\n",
              "    .colab-df-convert {\n",
              "      background-color: #E8F0FE;\n",
              "      border: none;\n",
              "      border-radius: 50%;\n",
              "      cursor: pointer;\n",
              "      display: none;\n",
              "      fill: #1967D2;\n",
              "      height: 32px;\n",
              "      padding: 0 0 0 0;\n",
              "      width: 32px;\n",
              "    }\n",
              "\n",
              "    .colab-df-convert:hover {\n",
              "      background-color: #E2EBFA;\n",
              "      box-shadow: 0px 1px 2px rgba(60, 64, 67, 0.3), 0px 1px 3px 1px rgba(60, 64, 67, 0.15);\n",
              "      fill: #174EA6;\n",
              "    }\n",
              "\n",
              "    .colab-df-buttons div {\n",
              "      margin-bottom: 4px;\n",
              "    }\n",
              "\n",
              "    [theme=dark] .colab-df-convert {\n",
              "      background-color: #3B4455;\n",
              "      fill: #D2E3FC;\n",
              "    }\n",
              "\n",
              "    [theme=dark] .colab-df-convert:hover {\n",
              "      background-color: #434B5C;\n",
              "      box-shadow: 0px 1px 3px 1px rgba(0, 0, 0, 0.15);\n",
              "      filter: drop-shadow(0px 1px 2px rgba(0, 0, 0, 0.3));\n",
              "      fill: #FFFFFF;\n",
              "    }\n",
              "  </style>\n",
              "\n",
              "    <script>\n",
              "      const buttonEl =\n",
              "        document.querySelector('#df-a38f1086-0337-4af2-90d2-f989caf61f87 button.colab-df-convert');\n",
              "      buttonEl.style.display =\n",
              "        google.colab.kernel.accessAllowed ? 'block' : 'none';\n",
              "\n",
              "      async function convertToInteractive(key) {\n",
              "        const element = document.querySelector('#df-a38f1086-0337-4af2-90d2-f989caf61f87');\n",
              "        const dataTable =\n",
              "          await google.colab.kernel.invokeFunction('convertToInteractive',\n",
              "                                                    [key], {});\n",
              "        if (!dataTable) return;\n",
              "\n",
              "        const docLinkHtml = 'Like what you see? Visit the ' +\n",
              "          '<a target=\"_blank\" href=https://colab.research.google.com/notebooks/data_table.ipynb>data table notebook</a>'\n",
              "          + ' to learn more about interactive tables.';\n",
              "        element.innerHTML = '';\n",
              "        dataTable['output_type'] = 'display_data';\n",
              "        await google.colab.output.renderOutput(dataTable, element);\n",
              "        const docLink = document.createElement('div');\n",
              "        docLink.innerHTML = docLinkHtml;\n",
              "        element.appendChild(docLink);\n",
              "      }\n",
              "    </script>\n",
              "  </div>\n",
              "\n",
              "\n",
              "    <div id=\"df-440b9c97-cd28-4729-a824-bc079cdd3fe7\">\n",
              "      <button class=\"colab-df-quickchart\" onclick=\"quickchart('df-440b9c97-cd28-4729-a824-bc079cdd3fe7')\"\n",
              "                title=\"Suggest charts\"\n",
              "                style=\"display:none;\">\n",
              "\n",
              "<svg xmlns=\"http://www.w3.org/2000/svg\" height=\"24px\"viewBox=\"0 0 24 24\"\n",
              "     width=\"24px\">\n",
              "    <g>\n",
              "        <path d=\"M19 3H5c-1.1 0-2 .9-2 2v14c0 1.1.9 2 2 2h14c1.1 0 2-.9 2-2V5c0-1.1-.9-2-2-2zM9 17H7v-7h2v7zm4 0h-2V7h2v10zm4 0h-2v-4h2v4z\"/>\n",
              "    </g>\n",
              "</svg>\n",
              "      </button>\n",
              "\n",
              "<style>\n",
              "  .colab-df-quickchart {\n",
              "      --bg-color: #E8F0FE;\n",
              "      --fill-color: #1967D2;\n",
              "      --hover-bg-color: #E2EBFA;\n",
              "      --hover-fill-color: #174EA6;\n",
              "      --disabled-fill-color: #AAA;\n",
              "      --disabled-bg-color: #DDD;\n",
              "  }\n",
              "\n",
              "  [theme=dark] .colab-df-quickchart {\n",
              "      --bg-color: #3B4455;\n",
              "      --fill-color: #D2E3FC;\n",
              "      --hover-bg-color: #434B5C;\n",
              "      --hover-fill-color: #FFFFFF;\n",
              "      --disabled-bg-color: #3B4455;\n",
              "      --disabled-fill-color: #666;\n",
              "  }\n",
              "\n",
              "  .colab-df-quickchart {\n",
              "    background-color: var(--bg-color);\n",
              "    border: none;\n",
              "    border-radius: 50%;\n",
              "    cursor: pointer;\n",
              "    display: none;\n",
              "    fill: var(--fill-color);\n",
              "    height: 32px;\n",
              "    padding: 0;\n",
              "    width: 32px;\n",
              "  }\n",
              "\n",
              "  .colab-df-quickchart:hover {\n",
              "    background-color: var(--hover-bg-color);\n",
              "    box-shadow: 0 1px 2px rgba(60, 64, 67, 0.3), 0 1px 3px 1px rgba(60, 64, 67, 0.15);\n",
              "    fill: var(--button-hover-fill-color);\n",
              "  }\n",
              "\n",
              "  .colab-df-quickchart-complete:disabled,\n",
              "  .colab-df-quickchart-complete:disabled:hover {\n",
              "    background-color: var(--disabled-bg-color);\n",
              "    fill: var(--disabled-fill-color);\n",
              "    box-shadow: none;\n",
              "  }\n",
              "\n",
              "  .colab-df-spinner {\n",
              "    border: 2px solid var(--fill-color);\n",
              "    border-color: transparent;\n",
              "    border-bottom-color: var(--fill-color);\n",
              "    animation:\n",
              "      spin 1s steps(1) infinite;\n",
              "  }\n",
              "\n",
              "  @keyframes spin {\n",
              "    0% {\n",
              "      border-color: transparent;\n",
              "      border-bottom-color: var(--fill-color);\n",
              "      border-left-color: var(--fill-color);\n",
              "    }\n",
              "    20% {\n",
              "      border-color: transparent;\n",
              "      border-left-color: var(--fill-color);\n",
              "      border-top-color: var(--fill-color);\n",
              "    }\n",
              "    30% {\n",
              "      border-color: transparent;\n",
              "      border-left-color: var(--fill-color);\n",
              "      border-top-color: var(--fill-color);\n",
              "      border-right-color: var(--fill-color);\n",
              "    }\n",
              "    40% {\n",
              "      border-color: transparent;\n",
              "      border-right-color: var(--fill-color);\n",
              "      border-top-color: var(--fill-color);\n",
              "    }\n",
              "    60% {\n",
              "      border-color: transparent;\n",
              "      border-right-color: var(--fill-color);\n",
              "    }\n",
              "    80% {\n",
              "      border-color: transparent;\n",
              "      border-right-color: var(--fill-color);\n",
              "      border-bottom-color: var(--fill-color);\n",
              "    }\n",
              "    90% {\n",
              "      border-color: transparent;\n",
              "      border-bottom-color: var(--fill-color);\n",
              "    }\n",
              "  }\n",
              "</style>\n",
              "\n",
              "      <script>\n",
              "        async function quickchart(key) {\n",
              "          const quickchartButtonEl =\n",
              "            document.querySelector('#' + key + ' button');\n",
              "          quickchartButtonEl.disabled = true;  // To prevent multiple clicks.\n",
              "          quickchartButtonEl.classList.add('colab-df-spinner');\n",
              "          try {\n",
              "            const charts = await google.colab.kernel.invokeFunction(\n",
              "                'suggestCharts', [key], {});\n",
              "          } catch (error) {\n",
              "            console.error('Error during call to suggestCharts:', error);\n",
              "          }\n",
              "          quickchartButtonEl.classList.remove('colab-df-spinner');\n",
              "          quickchartButtonEl.classList.add('colab-df-quickchart-complete');\n",
              "        }\n",
              "        (() => {\n",
              "          let quickchartButtonEl =\n",
              "            document.querySelector('#df-440b9c97-cd28-4729-a824-bc079cdd3fe7 button');\n",
              "          quickchartButtonEl.style.display =\n",
              "            google.colab.kernel.accessAllowed ? 'block' : 'none';\n",
              "        })();\n",
              "      </script>\n",
              "    </div>\n",
              "\n",
              "    </div>\n",
              "  </div>\n"
            ],
            "application/vnd.google.colaboratory.intrinsic+json": {
              "type": "dataframe",
              "summary": "{\n  \"name\": \"adata\",\n  \"rows\": 20811,\n  \"fields\": []\n}"
            }
          },
          "metadata": {},
          "execution_count": 5
        }
      ]
    },
    {
      "cell_type": "code",
      "source": [
        "adata.var"
      ],
      "metadata": {
        "colab": {
          "base_uri": "https://localhost:8080/",
          "height": 406
        },
        "id": "T44fjtJpSFLB",
        "outputId": "b84320a0-340d-41de-b589-f4205bec08a8"
      },
      "id": "T44fjtJpSFLB",
      "execution_count": null,
      "outputs": [
        {
          "output_type": "execute_result",
          "data": {
            "text/plain": [
              "Empty DataFrame\n",
              "Columns: []\n",
              "Index: [ENSMUSG00000000001, ENSMUSG00000000003, ENSMUSG00000000028, ENSMUSG00000000031, ENSMUSG00000000037, ENSMUSG00000000049, ENSMUSG00000000056, ENSMUSG00000000058, ENSMUSG00000000078, ENSMUSG00000000085, ENSMUSG00000000088, ENSMUSG00000000093, ENSMUSG00000000094, ENSMUSG00000000103, ENSMUSG00000000120, ENSMUSG00000000125, ENSMUSG00000000126, ENSMUSG00000000127, ENSMUSG00000000131, ENSMUSG00000000134, ENSMUSG00000000142, ENSMUSG00000000148, ENSMUSG00000000149, ENSMUSG00000000154, ENSMUSG00000000157, ENSMUSG00000000159, ENSMUSG00000000167, ENSMUSG00000000168, ENSMUSG00000000171, ENSMUSG00000000182, ENSMUSG00000000183, ENSMUSG00000000184, ENSMUSG00000000194, ENSMUSG00000000197, ENSMUSG00000000202, ENSMUSG00000000204, ENSMUSG00000000214, ENSMUSG00000000215, ENSMUSG00000000216, ENSMUSG00000000223, ENSMUSG00000000244, ENSMUSG00000000247, ENSMUSG00000000248, ENSMUSG00000000253, ENSMUSG00000000263, ENSMUSG00000000266, ENSMUSG00000000275, ENSMUSG00000000276, ENSMUSG00000000278, ENSMUSG00000000282, ENSMUSG00000000290, ENSMUSG00000000295, ENSMUSG00000000296, ENSMUSG00000000301, ENSMUSG00000000303, ENSMUSG00000000305, ENSMUSG00000000308, ENSMUSG00000000317, ENSMUSG00000000318, ENSMUSG00000000320, ENSMUSG00000000325, ENSMUSG00000000326, ENSMUSG00000000339, ENSMUSG00000000340, ENSMUSG00000000346, ENSMUSG00000000355, ENSMUSG00000000359, ENSMUSG00000000365, ENSMUSG00000000374, ENSMUSG00000000378, ENSMUSG00000000381, ENSMUSG00000000384, ENSMUSG00000000385, ENSMUSG00000000386, ENSMUSG00000000392, ENSMUSG00000000394, ENSMUSG00000000399, ENSMUSG00000000402, ENSMUSG00000000409, ENSMUSG00000000411, ENSMUSG00000000416, ENSMUSG00000000420, ENSMUSG00000000435, ENSMUSG00000000439, ENSMUSG00000000440, ENSMUSG00000000441, ENSMUSG00000000486, ENSMUSG00000000489, ENSMUSG00000000530, ENSMUSG00000000531, ENSMUSG00000000532, ENSMUSG00000000538, ENSMUSG00000000544, ENSMUSG00000000552, ENSMUSG00000000555, ENSMUSG00000000560, ENSMUSG00000000561, ENSMUSG00000000562, ENSMUSG00000000563, ENSMUSG00000000567, ...]\n",
              "\n",
              "[50262 rows x 0 columns]"
            ],
            "text/html": [
              "\n",
              "  <div id=\"df-8dc155c2-599e-49f4-ae92-127f85f6a3b7\" class=\"colab-df-container\">\n",
              "    <div>\n",
              "<style scoped>\n",
              "    .dataframe tbody tr th:only-of-type {\n",
              "        vertical-align: middle;\n",
              "    }\n",
              "\n",
              "    .dataframe tbody tr th {\n",
              "        vertical-align: top;\n",
              "    }\n",
              "\n",
              "    .dataframe thead th {\n",
              "        text-align: right;\n",
              "    }\n",
              "</style>\n",
              "<table border=\"1\" class=\"dataframe\">\n",
              "  <thead>\n",
              "    <tr style=\"text-align: right;\">\n",
              "      <th></th>\n",
              "    </tr>\n",
              "  </thead>\n",
              "  <tbody>\n",
              "    <tr>\n",
              "      <th>ENSMUSG00000000001</th>\n",
              "    </tr>\n",
              "    <tr>\n",
              "      <th>ENSMUSG00000000003</th>\n",
              "    </tr>\n",
              "    <tr>\n",
              "      <th>ENSMUSG00000000028</th>\n",
              "    </tr>\n",
              "    <tr>\n",
              "      <th>ENSMUSG00000000031</th>\n",
              "    </tr>\n",
              "    <tr>\n",
              "      <th>ENSMUSG00000000037</th>\n",
              "    </tr>\n",
              "    <tr>\n",
              "      <th>...</th>\n",
              "    </tr>\n",
              "    <tr>\n",
              "      <th>ENSMUSG00000117340</th>\n",
              "    </tr>\n",
              "    <tr>\n",
              "      <th>ENSMUSG00000117341</th>\n",
              "    </tr>\n",
              "    <tr>\n",
              "      <th>hsEGFR</th>\n",
              "    </tr>\n",
              "    <tr>\n",
              "      <th>hsTGFA</th>\n",
              "    </tr>\n",
              "    <tr>\n",
              "      <th>iCre</th>\n",
              "    </tr>\n",
              "  </tbody>\n",
              "</table>\n",
              "<p>50262 rows × 0 columns</p>\n",
              "</div>\n",
              "    <div class=\"colab-df-buttons\">\n",
              "\n",
              "  <div class=\"colab-df-container\">\n",
              "    <button class=\"colab-df-convert\" onclick=\"convertToInteractive('df-8dc155c2-599e-49f4-ae92-127f85f6a3b7')\"\n",
              "            title=\"Convert this dataframe to an interactive table.\"\n",
              "            style=\"display:none;\">\n",
              "\n",
              "  <svg xmlns=\"http://www.w3.org/2000/svg\" height=\"24px\" viewBox=\"0 -960 960 960\">\n",
              "    <path d=\"M120-120v-720h720v720H120Zm60-500h600v-160H180v160Zm220 220h160v-160H400v160Zm0 220h160v-160H400v160ZM180-400h160v-160H180v160Zm440 0h160v-160H620v160ZM180-180h160v-160H180v160Zm440 0h160v-160H620v160Z\"/>\n",
              "  </svg>\n",
              "    </button>\n",
              "\n",
              "  <style>\n",
              "    .colab-df-container {\n",
              "      display:flex;\n",
              "      gap: 12px;\n",
              "    }\n",
              "\n",
              "    .colab-df-convert {\n",
              "      background-color: #E8F0FE;\n",
              "      border: none;\n",
              "      border-radius: 50%;\n",
              "      cursor: pointer;\n",
              "      display: none;\n",
              "      fill: #1967D2;\n",
              "      height: 32px;\n",
              "      padding: 0 0 0 0;\n",
              "      width: 32px;\n",
              "    }\n",
              "\n",
              "    .colab-df-convert:hover {\n",
              "      background-color: #E2EBFA;\n",
              "      box-shadow: 0px 1px 2px rgba(60, 64, 67, 0.3), 0px 1px 3px 1px rgba(60, 64, 67, 0.15);\n",
              "      fill: #174EA6;\n",
              "    }\n",
              "\n",
              "    .colab-df-buttons div {\n",
              "      margin-bottom: 4px;\n",
              "    }\n",
              "\n",
              "    [theme=dark] .colab-df-convert {\n",
              "      background-color: #3B4455;\n",
              "      fill: #D2E3FC;\n",
              "    }\n",
              "\n",
              "    [theme=dark] .colab-df-convert:hover {\n",
              "      background-color: #434B5C;\n",
              "      box-shadow: 0px 1px 3px 1px rgba(0, 0, 0, 0.15);\n",
              "      filter: drop-shadow(0px 1px 2px rgba(0, 0, 0, 0.3));\n",
              "      fill: #FFFFFF;\n",
              "    }\n",
              "  </style>\n",
              "\n",
              "    <script>\n",
              "      const buttonEl =\n",
              "        document.querySelector('#df-8dc155c2-599e-49f4-ae92-127f85f6a3b7 button.colab-df-convert');\n",
              "      buttonEl.style.display =\n",
              "        google.colab.kernel.accessAllowed ? 'block' : 'none';\n",
              "\n",
              "      async function convertToInteractive(key) {\n",
              "        const element = document.querySelector('#df-8dc155c2-599e-49f4-ae92-127f85f6a3b7');\n",
              "        const dataTable =\n",
              "          await google.colab.kernel.invokeFunction('convertToInteractive',\n",
              "                                                    [key], {});\n",
              "        if (!dataTable) return;\n",
              "\n",
              "        const docLinkHtml = 'Like what you see? Visit the ' +\n",
              "          '<a target=\"_blank\" href=https://colab.research.google.com/notebooks/data_table.ipynb>data table notebook</a>'\n",
              "          + ' to learn more about interactive tables.';\n",
              "        element.innerHTML = '';\n",
              "        dataTable['output_type'] = 'display_data';\n",
              "        await google.colab.output.renderOutput(dataTable, element);\n",
              "        const docLink = document.createElement('div');\n",
              "        docLink.innerHTML = docLinkHtml;\n",
              "        element.appendChild(docLink);\n",
              "      }\n",
              "    </script>\n",
              "  </div>\n",
              "\n",
              "\n",
              "    <div id=\"df-33b0bd02-b866-47c2-ae36-176f8d5c6e9b\">\n",
              "      <button class=\"colab-df-quickchart\" onclick=\"quickchart('df-33b0bd02-b866-47c2-ae36-176f8d5c6e9b')\"\n",
              "                title=\"Suggest charts\"\n",
              "                style=\"display:none;\">\n",
              "\n",
              "<svg xmlns=\"http://www.w3.org/2000/svg\" height=\"24px\"viewBox=\"0 0 24 24\"\n",
              "     width=\"24px\">\n",
              "    <g>\n",
              "        <path d=\"M19 3H5c-1.1 0-2 .9-2 2v14c0 1.1.9 2 2 2h14c1.1 0 2-.9 2-2V5c0-1.1-.9-2-2-2zM9 17H7v-7h2v7zm4 0h-2V7h2v10zm4 0h-2v-4h2v4z\"/>\n",
              "    </g>\n",
              "</svg>\n",
              "      </button>\n",
              "\n",
              "<style>\n",
              "  .colab-df-quickchart {\n",
              "      --bg-color: #E8F0FE;\n",
              "      --fill-color: #1967D2;\n",
              "      --hover-bg-color: #E2EBFA;\n",
              "      --hover-fill-color: #174EA6;\n",
              "      --disabled-fill-color: #AAA;\n",
              "      --disabled-bg-color: #DDD;\n",
              "  }\n",
              "\n",
              "  [theme=dark] .colab-df-quickchart {\n",
              "      --bg-color: #3B4455;\n",
              "      --fill-color: #D2E3FC;\n",
              "      --hover-bg-color: #434B5C;\n",
              "      --hover-fill-color: #FFFFFF;\n",
              "      --disabled-bg-color: #3B4455;\n",
              "      --disabled-fill-color: #666;\n",
              "  }\n",
              "\n",
              "  .colab-df-quickchart {\n",
              "    background-color: var(--bg-color);\n",
              "    border: none;\n",
              "    border-radius: 50%;\n",
              "    cursor: pointer;\n",
              "    display: none;\n",
              "    fill: var(--fill-color);\n",
              "    height: 32px;\n",
              "    padding: 0;\n",
              "    width: 32px;\n",
              "  }\n",
              "\n",
              "  .colab-df-quickchart:hover {\n",
              "    background-color: var(--hover-bg-color);\n",
              "    box-shadow: 0 1px 2px rgba(60, 64, 67, 0.3), 0 1px 3px 1px rgba(60, 64, 67, 0.15);\n",
              "    fill: var(--button-hover-fill-color);\n",
              "  }\n",
              "\n",
              "  .colab-df-quickchart-complete:disabled,\n",
              "  .colab-df-quickchart-complete:disabled:hover {\n",
              "    background-color: var(--disabled-bg-color);\n",
              "    fill: var(--disabled-fill-color);\n",
              "    box-shadow: none;\n",
              "  }\n",
              "\n",
              "  .colab-df-spinner {\n",
              "    border: 2px solid var(--fill-color);\n",
              "    border-color: transparent;\n",
              "    border-bottom-color: var(--fill-color);\n",
              "    animation:\n",
              "      spin 1s steps(1) infinite;\n",
              "  }\n",
              "\n",
              "  @keyframes spin {\n",
              "    0% {\n",
              "      border-color: transparent;\n",
              "      border-bottom-color: var(--fill-color);\n",
              "      border-left-color: var(--fill-color);\n",
              "    }\n",
              "    20% {\n",
              "      border-color: transparent;\n",
              "      border-left-color: var(--fill-color);\n",
              "      border-top-color: var(--fill-color);\n",
              "    }\n",
              "    30% {\n",
              "      border-color: transparent;\n",
              "      border-left-color: var(--fill-color);\n",
              "      border-top-color: var(--fill-color);\n",
              "      border-right-color: var(--fill-color);\n",
              "    }\n",
              "    40% {\n",
              "      border-color: transparent;\n",
              "      border-right-color: var(--fill-color);\n",
              "      border-top-color: var(--fill-color);\n",
              "    }\n",
              "    60% {\n",
              "      border-color: transparent;\n",
              "      border-right-color: var(--fill-color);\n",
              "    }\n",
              "    80% {\n",
              "      border-color: transparent;\n",
              "      border-right-color: var(--fill-color);\n",
              "      border-bottom-color: var(--fill-color);\n",
              "    }\n",
              "    90% {\n",
              "      border-color: transparent;\n",
              "      border-bottom-color: var(--fill-color);\n",
              "    }\n",
              "  }\n",
              "</style>\n",
              "\n",
              "      <script>\n",
              "        async function quickchart(key) {\n",
              "          const quickchartButtonEl =\n",
              "            document.querySelector('#' + key + ' button');\n",
              "          quickchartButtonEl.disabled = true;  // To prevent multiple clicks.\n",
              "          quickchartButtonEl.classList.add('colab-df-spinner');\n",
              "          try {\n",
              "            const charts = await google.colab.kernel.invokeFunction(\n",
              "                'suggestCharts', [key], {});\n",
              "          } catch (error) {\n",
              "            console.error('Error during call to suggestCharts:', error);\n",
              "          }\n",
              "          quickchartButtonEl.classList.remove('colab-df-spinner');\n",
              "          quickchartButtonEl.classList.add('colab-df-quickchart-complete');\n",
              "        }\n",
              "        (() => {\n",
              "          let quickchartButtonEl =\n",
              "            document.querySelector('#df-33b0bd02-b866-47c2-ae36-176f8d5c6e9b button');\n",
              "          quickchartButtonEl.style.display =\n",
              "            google.colab.kernel.accessAllowed ? 'block' : 'none';\n",
              "        })();\n",
              "      </script>\n",
              "    </div>\n",
              "\n",
              "    </div>\n",
              "  </div>\n"
            ],
            "application/vnd.google.colaboratory.intrinsic+json": {
              "type": "dataframe",
              "summary": "{\n  \"name\": \"adata\",\n  \"rows\": 50262,\n  \"fields\": []\n}"
            }
          },
          "metadata": {},
          "execution_count": 6
        }
      ]
    },
    {
      "cell_type": "code",
      "source": [
        "adata.write('/content/GBM_import.h5ad')\n",
        "/content/sample_data"
      ],
      "metadata": {
        "id": "YvzUJr6mRMOk"
      },
      "id": "YvzUJr6mRMOk",
      "execution_count": null,
      "outputs": []
    },
    {
      "cell_type": "code",
      "source": [
        "adata1 = sc.read_h5ad('/content/GBM_import.h5ad')"
      ],
      "metadata": {
        "id": "25l29MetWkBf"
      },
      "id": "25l29MetWkBf",
      "execution_count": null,
      "outputs": []
    },
    {
      "cell_type": "code",
      "source": [],
      "metadata": {
        "id": "VomhvqRe-s4S"
      },
      "id": "VomhvqRe-s4S",
      "execution_count": null,
      "outputs": []
    },
    {
      "cell_type": "code",
      "source": [
        "# prompt: make a .h5ad file using the imported adata\n",
        "\n",
        "adata1"
      ],
      "metadata": {
        "colab": {
          "base_uri": "https://localhost:8080/"
        },
        "id": "zKRlaQ67W_E_",
        "outputId": "d59784d4-0a08-45ef-ff68-a01d1447e2e9"
      },
      "id": "zKRlaQ67W_E_",
      "execution_count": null,
      "outputs": [
        {
          "output_type": "execute_result",
          "data": {
            "text/plain": [
              "AnnData object with n_obs × n_vars = 20811 × 50262"
            ]
          },
          "metadata": {},
          "execution_count": 9
        }
      ]
    },
    {
      "cell_type": "code",
      "source": [
        "# prompt: perform psdueotime analysis using adata, and make a umap plot using the anlaysis\n",
        "\n",
        "# Ensure necessary libraries are installed\n",
        "!pip install scanpy scvelo\n",
        "\n",
        "import scanpy as sc\n",
        "import scvelo as sv\n",
        "import matplotlib.pyplot as plt\n",
        "import seaborn as sns\n",
        "\n",
        "# Assuming 'adata' is already loaded and preprocessed (normalized, scaled, etc.)\n",
        "# based on the preceding code. If not, perform necessary preprocessing steps here.\n",
        "\n",
        "# Perform PCA if not already done (often a prerequisite for diffusion maps)\n",
        "sc.pp.pca(adata)\n",
        "\n",
        "# Compute the diffusion map (essential for pseudotime analysis)\n",
        "# Ensure you have enough neighbors computed if running this step without prior UMAP/tSNE\n",
        "sc.tl.diffmap(adata)\n",
        "\n",
        "# Compute the diffusion pseudotime\n",
        "sc.tl.dpt(adata)\n",
        "\n",
        "# You can optionally specify a root cell or group if known\n",
        "# sc.tl.dpt(adata, root_cell=some_cell_index)\n",
        "# sc.tl.dpt(adata, n_dcs=[1, 2, 3]) # Specify diffusion components to use\n",
        "\n",
        "# Now compute the UMAP embedding if not already present\n",
        "# This is needed to visualize the pseudotime on the UMAP plot\n",
        "sc.pp.neighbors(adata, n_neighbors=10, n_pcs=50) # Recompute neighbors if needed for UMAP\n",
        "sc.tl.umap(adata)\n",
        "\n",
        "# Plot the UMAP colored by diffusion pseudotime\n",
        "sc.pl.umap(adata, color='dpt_pseudotime', title='UMAP colored by Diffusion Pseudotime')\n",
        "\n",
        "# Optional: Plot UMAP colored by other relevant annotations (e.g., cell type) alongside pseudotime\n",
        "# sc.pl.umap(adata, color=['cell_type', 'dpt_pseudotime'], title='UMAP')\n",
        "\n",
        "plt.show()"
      ],
      "metadata": {
        "id": "hsdHfIJsXKKb"
      },
      "id": "hsdHfIJsXKKb",
      "execution_count": null,
      "outputs": []
    },
    {
      "cell_type": "code",
      "source": [],
      "metadata": {
        "id": "a2EbpfKnXYdd"
      },
      "id": "a2EbpfKnXYdd",
      "execution_count": null,
      "outputs": []
    },
    {
      "cell_type": "code",
      "execution_count": null,
      "id": "9756ad26",
      "metadata": {
        "id": "9756ad26",
        "colab": {
          "base_uri": "https://localhost:8080/"
        },
        "outputId": "376d4a1c-8c46-424f-d254-9df723c9e845"
      },
      "outputs": [
        {
          "output_type": "stream",
          "name": "stdout",
          "text": [
            "Number of cells: 2730\n",
            "Number of genes: 3451\n",
            "Data matrix shape: (2730, 3451)\n"
          ]
        }
      ],
      "source": [
        "\n",
        "print(f\"Number of cells: {adata.n_obs}\")\n",
        "print(f\"Number of genes: {adata.n_vars}\")\n",
        "print(f\"Data matrix shape: {adata.shape}\")\n",
        "adata.raw = adata\n"
      ]
    },
    {
      "cell_type": "markdown",
      "id": "2f690dd0",
      "metadata": {
        "id": "2f690dd0"
      },
      "source": [
        "## Step 3: Compute QC Metrics"
      ]
    },
    {
      "cell_type": "markdown",
      "id": "d0816161",
      "metadata": {
        "id": "d0816161"
      },
      "source": [
        "\n",
        "We compute:\n",
        "- `n_counts`: Total number of UMIs per cell\n",
        "- `n_genes`: Number of genes detected in each cell\n",
        "- `percent_mito`: Percentage of mitochondrial gene counts (as high mito content indicates stress or low quality)\n"
      ]
    },
    {
      "cell_type": "markdown",
      "id": "39ca426d",
      "metadata": {
        "id": "39ca426d"
      },
      "source": [
        "Quick lecture about the gene counts: UMI, RPKM, FPKM\n",
        "\n",
        "1) UMI (Unique Molecular Identifier)\n",
        "Stands for: Unique Molecular Identifier\n",
        "\n",
        "Statistical Meaning:\n",
        "\n",
        "UMI counts represent the number of unique transcripts captured from a gene in a single cell.\n",
        "\n",
        "Each UMI is a short random sequence that gets attached to a cDNA molecule before PCR amplification.\n",
        "\n",
        "By tracking these UMIs, we can deduplicate reads that were artificially amplified during PCR, giving a more accurate measurement of the true number of original mRNA molecules.\n",
        "\n",
        "Why it matters in scRNA-seq:\n",
        "\n",
        "scRNA-seq typically deals with low RNA input per cell → amplification is necessary → but can bias quantification.\n",
        "\n",
        "UMI removes amplification bias and provides count data that’s close to the true biological signal.\n",
        "\n",
        "Most modern scRNA-seq platforms (e.g., 10x Genomics) use UMI-based quantification.\n",
        "\n",
        "2) RPKM (Reads Per Kilobase of transcript per Million mapped reads)\n",
        "Stands for: Reads Per Kilobase of transcript per Million mapped reads\n",
        "\n",
        "Statistical Meaning:\n",
        "\n",
        "RPKM\n",
        "=\n",
        "Raw reads mapped to a gene\n",
        "Gene length (kb)\n",
        "×\n",
        "Total mapped reads (millions)\n",
        "RPKM=\n",
        "Gene length (kb)×Total mapped reads (millions)\n",
        "Raw reads mapped to a gene\n",
        "​\n",
        "\n",
        "Why it matters:\n",
        "\n",
        "RPKM normalizes for:\n",
        "\n",
        "Gene length — longer genes would naturally get more reads.\n",
        "\n",
        "Sequencing depth — more deeply sequenced libraries will have more reads.\n",
        "\n",
        "Originally developed for bulk RNA-seq, not ideal for sparse single-cell data.\n",
        "\n",
        "Problems in scRNA-seq:\n",
        "\n",
        "scRNA-seq data are sparse and often zero-inflated.\n",
        "\n",
        "RPKM assumes consistent transcript detection, which is violated in single cells.\n",
        "\n",
        "Not UMI-aware → may count PCR duplicates.\n",
        "\n",
        "3) FPKM (Fragments Per Kilobase of transcript per Million mapped reads)\n",
        "Stands for: Fragments Per Kilobase of transcript per Million mapped reads\n",
        "\n",
        "Statistical Meaning:\n",
        "\n",
        "Similar to RPKM, but used when sequencing is paired-end (each fragment generates two reads).\n",
        "\n",
        "FPKM\n",
        "=\n",
        "Fragment count\n",
        "Gene length (kb)\n",
        "×\n",
        "Total fragments (millions)\n",
        "FPKM=\n",
        "Gene length (kb)×Total fragments (millions)\n",
        "Fragment count\n",
        "​\n",
        "\n"
      ]
    },
    {
      "cell_type": "code",
      "source": [
        "adata.obs"
      ],
      "metadata": {
        "colab": {
          "base_uri": "https://localhost:8080/",
          "height": 423
        },
        "id": "YgRe8re5_nxv",
        "outputId": "1ff4fbd9-4c94-4e29-d729-26f3678ea6c4"
      },
      "id": "YgRe8re5_nxv",
      "execution_count": null,
      "outputs": [
        {
          "output_type": "execute_result",
          "data": {
            "text/plain": [
              "       paul15_clusters  n_counts  n_genes  percent_mito\n",
              "W31105            7MEP     353.0      277           0.0\n",
              "W31106            15Mo    2556.0     1021           0.0\n",
              "W31107            3Ery    4649.0     1466           0.0\n",
              "W31108            15Mo    4486.0     1415           0.0\n",
              "W31109            3Ery    5205.0     1505           0.0\n",
              "...                ...       ...      ...           ...\n",
              "W39164            2Ery    4873.0     1401           0.0\n",
              "W39165          13Baso    3553.0     1209           0.0\n",
              "W39166            7MEP     443.0      322           0.0\n",
              "W39167            15Mo    3252.0     1196           0.0\n",
              "W39168            3Ery    6401.0     1577           0.0\n",
              "\n",
              "[2730 rows x 4 columns]"
            ],
            "text/html": [
              "\n",
              "  <div id=\"df-1f212e41-730b-4652-b7be-2f909f8e22a7\" class=\"colab-df-container\">\n",
              "    <div>\n",
              "<style scoped>\n",
              "    .dataframe tbody tr th:only-of-type {\n",
              "        vertical-align: middle;\n",
              "    }\n",
              "\n",
              "    .dataframe tbody tr th {\n",
              "        vertical-align: top;\n",
              "    }\n",
              "\n",
              "    .dataframe thead th {\n",
              "        text-align: right;\n",
              "    }\n",
              "</style>\n",
              "<table border=\"1\" class=\"dataframe\">\n",
              "  <thead>\n",
              "    <tr style=\"text-align: right;\">\n",
              "      <th></th>\n",
              "      <th>paul15_clusters</th>\n",
              "      <th>n_counts</th>\n",
              "      <th>n_genes</th>\n",
              "      <th>percent_mito</th>\n",
              "    </tr>\n",
              "  </thead>\n",
              "  <tbody>\n",
              "    <tr>\n",
              "      <th>W31105</th>\n",
              "      <td>7MEP</td>\n",
              "      <td>353.0</td>\n",
              "      <td>277</td>\n",
              "      <td>0.0</td>\n",
              "    </tr>\n",
              "    <tr>\n",
              "      <th>W31106</th>\n",
              "      <td>15Mo</td>\n",
              "      <td>2556.0</td>\n",
              "      <td>1021</td>\n",
              "      <td>0.0</td>\n",
              "    </tr>\n",
              "    <tr>\n",
              "      <th>W31107</th>\n",
              "      <td>3Ery</td>\n",
              "      <td>4649.0</td>\n",
              "      <td>1466</td>\n",
              "      <td>0.0</td>\n",
              "    </tr>\n",
              "    <tr>\n",
              "      <th>W31108</th>\n",
              "      <td>15Mo</td>\n",
              "      <td>4486.0</td>\n",
              "      <td>1415</td>\n",
              "      <td>0.0</td>\n",
              "    </tr>\n",
              "    <tr>\n",
              "      <th>W31109</th>\n",
              "      <td>3Ery</td>\n",
              "      <td>5205.0</td>\n",
              "      <td>1505</td>\n",
              "      <td>0.0</td>\n",
              "    </tr>\n",
              "    <tr>\n",
              "      <th>...</th>\n",
              "      <td>...</td>\n",
              "      <td>...</td>\n",
              "      <td>...</td>\n",
              "      <td>...</td>\n",
              "    </tr>\n",
              "    <tr>\n",
              "      <th>W39164</th>\n",
              "      <td>2Ery</td>\n",
              "      <td>4873.0</td>\n",
              "      <td>1401</td>\n",
              "      <td>0.0</td>\n",
              "    </tr>\n",
              "    <tr>\n",
              "      <th>W39165</th>\n",
              "      <td>13Baso</td>\n",
              "      <td>3553.0</td>\n",
              "      <td>1209</td>\n",
              "      <td>0.0</td>\n",
              "    </tr>\n",
              "    <tr>\n",
              "      <th>W39166</th>\n",
              "      <td>7MEP</td>\n",
              "      <td>443.0</td>\n",
              "      <td>322</td>\n",
              "      <td>0.0</td>\n",
              "    </tr>\n",
              "    <tr>\n",
              "      <th>W39167</th>\n",
              "      <td>15Mo</td>\n",
              "      <td>3252.0</td>\n",
              "      <td>1196</td>\n",
              "      <td>0.0</td>\n",
              "    </tr>\n",
              "    <tr>\n",
              "      <th>W39168</th>\n",
              "      <td>3Ery</td>\n",
              "      <td>6401.0</td>\n",
              "      <td>1577</td>\n",
              "      <td>0.0</td>\n",
              "    </tr>\n",
              "  </tbody>\n",
              "</table>\n",
              "<p>2730 rows × 4 columns</p>\n",
              "</div>\n",
              "    <div class=\"colab-df-buttons\">\n",
              "\n",
              "  <div class=\"colab-df-container\">\n",
              "    <button class=\"colab-df-convert\" onclick=\"convertToInteractive('df-1f212e41-730b-4652-b7be-2f909f8e22a7')\"\n",
              "            title=\"Convert this dataframe to an interactive table.\"\n",
              "            style=\"display:none;\">\n",
              "\n",
              "  <svg xmlns=\"http://www.w3.org/2000/svg\" height=\"24px\" viewBox=\"0 -960 960 960\">\n",
              "    <path d=\"M120-120v-720h720v720H120Zm60-500h600v-160H180v160Zm220 220h160v-160H400v160Zm0 220h160v-160H400v160ZM180-400h160v-160H180v160Zm440 0h160v-160H620v160ZM180-180h160v-160H180v160Zm440 0h160v-160H620v160Z\"/>\n",
              "  </svg>\n",
              "    </button>\n",
              "\n",
              "  <style>\n",
              "    .colab-df-container {\n",
              "      display:flex;\n",
              "      gap: 12px;\n",
              "    }\n",
              "\n",
              "    .colab-df-convert {\n",
              "      background-color: #E8F0FE;\n",
              "      border: none;\n",
              "      border-radius: 50%;\n",
              "      cursor: pointer;\n",
              "      display: none;\n",
              "      fill: #1967D2;\n",
              "      height: 32px;\n",
              "      padding: 0 0 0 0;\n",
              "      width: 32px;\n",
              "    }\n",
              "\n",
              "    .colab-df-convert:hover {\n",
              "      background-color: #E2EBFA;\n",
              "      box-shadow: 0px 1px 2px rgba(60, 64, 67, 0.3), 0px 1px 3px 1px rgba(60, 64, 67, 0.15);\n",
              "      fill: #174EA6;\n",
              "    }\n",
              "\n",
              "    .colab-df-buttons div {\n",
              "      margin-bottom: 4px;\n",
              "    }\n",
              "\n",
              "    [theme=dark] .colab-df-convert {\n",
              "      background-color: #3B4455;\n",
              "      fill: #D2E3FC;\n",
              "    }\n",
              "\n",
              "    [theme=dark] .colab-df-convert:hover {\n",
              "      background-color: #434B5C;\n",
              "      box-shadow: 0px 1px 3px 1px rgba(0, 0, 0, 0.15);\n",
              "      filter: drop-shadow(0px 1px 2px rgba(0, 0, 0, 0.3));\n",
              "      fill: #FFFFFF;\n",
              "    }\n",
              "  </style>\n",
              "\n",
              "    <script>\n",
              "      const buttonEl =\n",
              "        document.querySelector('#df-1f212e41-730b-4652-b7be-2f909f8e22a7 button.colab-df-convert');\n",
              "      buttonEl.style.display =\n",
              "        google.colab.kernel.accessAllowed ? 'block' : 'none';\n",
              "\n",
              "      async function convertToInteractive(key) {\n",
              "        const element = document.querySelector('#df-1f212e41-730b-4652-b7be-2f909f8e22a7');\n",
              "        const dataTable =\n",
              "          await google.colab.kernel.invokeFunction('convertToInteractive',\n",
              "                                                    [key], {});\n",
              "        if (!dataTable) return;\n",
              "\n",
              "        const docLinkHtml = 'Like what you see? Visit the ' +\n",
              "          '<a target=\"_blank\" href=https://colab.research.google.com/notebooks/data_table.ipynb>data table notebook</a>'\n",
              "          + ' to learn more about interactive tables.';\n",
              "        element.innerHTML = '';\n",
              "        dataTable['output_type'] = 'display_data';\n",
              "        await google.colab.output.renderOutput(dataTable, element);\n",
              "        const docLink = document.createElement('div');\n",
              "        docLink.innerHTML = docLinkHtml;\n",
              "        element.appendChild(docLink);\n",
              "      }\n",
              "    </script>\n",
              "  </div>\n",
              "\n",
              "\n",
              "    <div id=\"df-3263f2c8-4f8e-4b86-aa20-300854aed986\">\n",
              "      <button class=\"colab-df-quickchart\" onclick=\"quickchart('df-3263f2c8-4f8e-4b86-aa20-300854aed986')\"\n",
              "                title=\"Suggest charts\"\n",
              "                style=\"display:none;\">\n",
              "\n",
              "<svg xmlns=\"http://www.w3.org/2000/svg\" height=\"24px\"viewBox=\"0 0 24 24\"\n",
              "     width=\"24px\">\n",
              "    <g>\n",
              "        <path d=\"M19 3H5c-1.1 0-2 .9-2 2v14c0 1.1.9 2 2 2h14c1.1 0 2-.9 2-2V5c0-1.1-.9-2-2-2zM9 17H7v-7h2v7zm4 0h-2V7h2v10zm4 0h-2v-4h2v4z\"/>\n",
              "    </g>\n",
              "</svg>\n",
              "      </button>\n",
              "\n",
              "<style>\n",
              "  .colab-df-quickchart {\n",
              "      --bg-color: #E8F0FE;\n",
              "      --fill-color: #1967D2;\n",
              "      --hover-bg-color: #E2EBFA;\n",
              "      --hover-fill-color: #174EA6;\n",
              "      --disabled-fill-color: #AAA;\n",
              "      --disabled-bg-color: #DDD;\n",
              "  }\n",
              "\n",
              "  [theme=dark] .colab-df-quickchart {\n",
              "      --bg-color: #3B4455;\n",
              "      --fill-color: #D2E3FC;\n",
              "      --hover-bg-color: #434B5C;\n",
              "      --hover-fill-color: #FFFFFF;\n",
              "      --disabled-bg-color: #3B4455;\n",
              "      --disabled-fill-color: #666;\n",
              "  }\n",
              "\n",
              "  .colab-df-quickchart {\n",
              "    background-color: var(--bg-color);\n",
              "    border: none;\n",
              "    border-radius: 50%;\n",
              "    cursor: pointer;\n",
              "    display: none;\n",
              "    fill: var(--fill-color);\n",
              "    height: 32px;\n",
              "    padding: 0;\n",
              "    width: 32px;\n",
              "  }\n",
              "\n",
              "  .colab-df-quickchart:hover {\n",
              "    background-color: var(--hover-bg-color);\n",
              "    box-shadow: 0 1px 2px rgba(60, 64, 67, 0.3), 0 1px 3px 1px rgba(60, 64, 67, 0.15);\n",
              "    fill: var(--button-hover-fill-color);\n",
              "  }\n",
              "\n",
              "  .colab-df-quickchart-complete:disabled,\n",
              "  .colab-df-quickchart-complete:disabled:hover {\n",
              "    background-color: var(--disabled-bg-color);\n",
              "    fill: var(--disabled-fill-color);\n",
              "    box-shadow: none;\n",
              "  }\n",
              "\n",
              "  .colab-df-spinner {\n",
              "    border: 2px solid var(--fill-color);\n",
              "    border-color: transparent;\n",
              "    border-bottom-color: var(--fill-color);\n",
              "    animation:\n",
              "      spin 1s steps(1) infinite;\n",
              "  }\n",
              "\n",
              "  @keyframes spin {\n",
              "    0% {\n",
              "      border-color: transparent;\n",
              "      border-bottom-color: var(--fill-color);\n",
              "      border-left-color: var(--fill-color);\n",
              "    }\n",
              "    20% {\n",
              "      border-color: transparent;\n",
              "      border-left-color: var(--fill-color);\n",
              "      border-top-color: var(--fill-color);\n",
              "    }\n",
              "    30% {\n",
              "      border-color: transparent;\n",
              "      border-left-color: var(--fill-color);\n",
              "      border-top-color: var(--fill-color);\n",
              "      border-right-color: var(--fill-color);\n",
              "    }\n",
              "    40% {\n",
              "      border-color: transparent;\n",
              "      border-right-color: var(--fill-color);\n",
              "      border-top-color: var(--fill-color);\n",
              "    }\n",
              "    60% {\n",
              "      border-color: transparent;\n",
              "      border-right-color: var(--fill-color);\n",
              "    }\n",
              "    80% {\n",
              "      border-color: transparent;\n",
              "      border-right-color: var(--fill-color);\n",
              "      border-bottom-color: var(--fill-color);\n",
              "    }\n",
              "    90% {\n",
              "      border-color: transparent;\n",
              "      border-bottom-color: var(--fill-color);\n",
              "    }\n",
              "  }\n",
              "</style>\n",
              "\n",
              "      <script>\n",
              "        async function quickchart(key) {\n",
              "          const quickchartButtonEl =\n",
              "            document.querySelector('#' + key + ' button');\n",
              "          quickchartButtonEl.disabled = true;  // To prevent multiple clicks.\n",
              "          quickchartButtonEl.classList.add('colab-df-spinner');\n",
              "          try {\n",
              "            const charts = await google.colab.kernel.invokeFunction(\n",
              "                'suggestCharts', [key], {});\n",
              "          } catch (error) {\n",
              "            console.error('Error during call to suggestCharts:', error);\n",
              "          }\n",
              "          quickchartButtonEl.classList.remove('colab-df-spinner');\n",
              "          quickchartButtonEl.classList.add('colab-df-quickchart-complete');\n",
              "        }\n",
              "        (() => {\n",
              "          let quickchartButtonEl =\n",
              "            document.querySelector('#df-3263f2c8-4f8e-4b86-aa20-300854aed986 button');\n",
              "          quickchartButtonEl.style.display =\n",
              "            google.colab.kernel.accessAllowed ? 'block' : 'none';\n",
              "        })();\n",
              "      </script>\n",
              "    </div>\n",
              "\n",
              "    </div>\n",
              "  </div>\n"
            ],
            "application/vnd.google.colaboratory.intrinsic+json": {
              "type": "dataframe",
              "summary": "{\n  \"name\": \"adata\",\n  \"rows\": 2730,\n  \"fields\": [\n    {\n      \"column\": \"paul15_clusters\",\n      \"properties\": {\n        \"dtype\": \"category\",\n        \"num_unique_values\": 19,\n        \"samples\": [\n          \"7MEP\",\n          \"17Neu\",\n          \"16Neu\"\n        ],\n        \"semantic_type\": \"\",\n        \"description\": \"\"\n      }\n    },\n    {\n      \"column\": \"n_counts\",\n      \"properties\": {\n        \"dtype\": \"float32\",\n        \"num_unique_values\": 1994,\n        \"samples\": [\n          579.0,\n          2265.0,\n          1337.0\n        ],\n        \"semantic_type\": \"\",\n        \"description\": \"\"\n      }\n    },\n    {\n      \"column\": \"n_genes\",\n      \"properties\": {\n        \"dtype\": \"number\",\n        \"std\": 357,\n        \"min\": 213,\n        \"max\": 2009,\n        \"num_unique_values\": 1178,\n        \"samples\": [\n          1096,\n          1457,\n          298\n        ],\n        \"semantic_type\": \"\",\n        \"description\": \"\"\n      }\n    },\n    {\n      \"column\": \"percent_mito\",\n      \"properties\": {\n        \"dtype\": \"float32\",\n        \"num_unique_values\": 1,\n        \"samples\": [\n          0.0\n        ],\n        \"semantic_type\": \"\",\n        \"description\": \"\"\n      }\n    }\n  ]\n}"
            }
          },
          "metadata": {},
          "execution_count": 9
        }
      ]
    },
    {
      "cell_type": "code",
      "execution_count": null,
      "id": "bf4a60d2",
      "metadata": {
        "id": "bf4a60d2",
        "colab": {
          "base_uri": "https://localhost:8080/",
          "height": 206
        },
        "outputId": "aaaff234-f792-4059-eb6e-01098c1e645f"
      },
      "outputs": [
        {
          "output_type": "execute_result",
          "data": {
            "text/plain": [
              "        n_counts  n_genes  percent_mito\n",
              "W31105     353.0      277           0.0\n",
              "W31106    2556.0     1021           0.0\n",
              "W31107    4649.0     1466           0.0\n",
              "W31108    4486.0     1415           0.0\n",
              "W31109    5205.0     1505           0.0"
            ],
            "text/html": [
              "\n",
              "  <div id=\"df-23ad06fc-d200-4844-934a-05113f471e74\" class=\"colab-df-container\">\n",
              "    <div>\n",
              "<style scoped>\n",
              "    .dataframe tbody tr th:only-of-type {\n",
              "        vertical-align: middle;\n",
              "    }\n",
              "\n",
              "    .dataframe tbody tr th {\n",
              "        vertical-align: top;\n",
              "    }\n",
              "\n",
              "    .dataframe thead th {\n",
              "        text-align: right;\n",
              "    }\n",
              "</style>\n",
              "<table border=\"1\" class=\"dataframe\">\n",
              "  <thead>\n",
              "    <tr style=\"text-align: right;\">\n",
              "      <th></th>\n",
              "      <th>n_counts</th>\n",
              "      <th>n_genes</th>\n",
              "      <th>percent_mito</th>\n",
              "    </tr>\n",
              "  </thead>\n",
              "  <tbody>\n",
              "    <tr>\n",
              "      <th>W31105</th>\n",
              "      <td>353.0</td>\n",
              "      <td>277</td>\n",
              "      <td>0.0</td>\n",
              "    </tr>\n",
              "    <tr>\n",
              "      <th>W31106</th>\n",
              "      <td>2556.0</td>\n",
              "      <td>1021</td>\n",
              "      <td>0.0</td>\n",
              "    </tr>\n",
              "    <tr>\n",
              "      <th>W31107</th>\n",
              "      <td>4649.0</td>\n",
              "      <td>1466</td>\n",
              "      <td>0.0</td>\n",
              "    </tr>\n",
              "    <tr>\n",
              "      <th>W31108</th>\n",
              "      <td>4486.0</td>\n",
              "      <td>1415</td>\n",
              "      <td>0.0</td>\n",
              "    </tr>\n",
              "    <tr>\n",
              "      <th>W31109</th>\n",
              "      <td>5205.0</td>\n",
              "      <td>1505</td>\n",
              "      <td>0.0</td>\n",
              "    </tr>\n",
              "  </tbody>\n",
              "</table>\n",
              "</div>\n",
              "    <div class=\"colab-df-buttons\">\n",
              "\n",
              "  <div class=\"colab-df-container\">\n",
              "    <button class=\"colab-df-convert\" onclick=\"convertToInteractive('df-23ad06fc-d200-4844-934a-05113f471e74')\"\n",
              "            title=\"Convert this dataframe to an interactive table.\"\n",
              "            style=\"display:none;\">\n",
              "\n",
              "  <svg xmlns=\"http://www.w3.org/2000/svg\" height=\"24px\" viewBox=\"0 -960 960 960\">\n",
              "    <path d=\"M120-120v-720h720v720H120Zm60-500h600v-160H180v160Zm220 220h160v-160H400v160Zm0 220h160v-160H400v160ZM180-400h160v-160H180v160Zm440 0h160v-160H620v160ZM180-180h160v-160H180v160Zm440 0h160v-160H620v160Z\"/>\n",
              "  </svg>\n",
              "    </button>\n",
              "\n",
              "  <style>\n",
              "    .colab-df-container {\n",
              "      display:flex;\n",
              "      gap: 12px;\n",
              "    }\n",
              "\n",
              "    .colab-df-convert {\n",
              "      background-color: #E8F0FE;\n",
              "      border: none;\n",
              "      border-radius: 50%;\n",
              "      cursor: pointer;\n",
              "      display: none;\n",
              "      fill: #1967D2;\n",
              "      height: 32px;\n",
              "      padding: 0 0 0 0;\n",
              "      width: 32px;\n",
              "    }\n",
              "\n",
              "    .colab-df-convert:hover {\n",
              "      background-color: #E2EBFA;\n",
              "      box-shadow: 0px 1px 2px rgba(60, 64, 67, 0.3), 0px 1px 3px 1px rgba(60, 64, 67, 0.15);\n",
              "      fill: #174EA6;\n",
              "    }\n",
              "\n",
              "    .colab-df-buttons div {\n",
              "      margin-bottom: 4px;\n",
              "    }\n",
              "\n",
              "    [theme=dark] .colab-df-convert {\n",
              "      background-color: #3B4455;\n",
              "      fill: #D2E3FC;\n",
              "    }\n",
              "\n",
              "    [theme=dark] .colab-df-convert:hover {\n",
              "      background-color: #434B5C;\n",
              "      box-shadow: 0px 1px 3px 1px rgba(0, 0, 0, 0.15);\n",
              "      filter: drop-shadow(0px 1px 2px rgba(0, 0, 0, 0.3));\n",
              "      fill: #FFFFFF;\n",
              "    }\n",
              "  </style>\n",
              "\n",
              "    <script>\n",
              "      const buttonEl =\n",
              "        document.querySelector('#df-23ad06fc-d200-4844-934a-05113f471e74 button.colab-df-convert');\n",
              "      buttonEl.style.display =\n",
              "        google.colab.kernel.accessAllowed ? 'block' : 'none';\n",
              "\n",
              "      async function convertToInteractive(key) {\n",
              "        const element = document.querySelector('#df-23ad06fc-d200-4844-934a-05113f471e74');\n",
              "        const dataTable =\n",
              "          await google.colab.kernel.invokeFunction('convertToInteractive',\n",
              "                                                    [key], {});\n",
              "        if (!dataTable) return;\n",
              "\n",
              "        const docLinkHtml = 'Like what you see? Visit the ' +\n",
              "          '<a target=\"_blank\" href=https://colab.research.google.com/notebooks/data_table.ipynb>data table notebook</a>'\n",
              "          + ' to learn more about interactive tables.';\n",
              "        element.innerHTML = '';\n",
              "        dataTable['output_type'] = 'display_data';\n",
              "        await google.colab.output.renderOutput(dataTable, element);\n",
              "        const docLink = document.createElement('div');\n",
              "        docLink.innerHTML = docLinkHtml;\n",
              "        element.appendChild(docLink);\n",
              "      }\n",
              "    </script>\n",
              "  </div>\n",
              "\n",
              "\n",
              "    <div id=\"df-d7b697b9-3356-4341-827c-23bc54f270ca\">\n",
              "      <button class=\"colab-df-quickchart\" onclick=\"quickchart('df-d7b697b9-3356-4341-827c-23bc54f270ca')\"\n",
              "                title=\"Suggest charts\"\n",
              "                style=\"display:none;\">\n",
              "\n",
              "<svg xmlns=\"http://www.w3.org/2000/svg\" height=\"24px\"viewBox=\"0 0 24 24\"\n",
              "     width=\"24px\">\n",
              "    <g>\n",
              "        <path d=\"M19 3H5c-1.1 0-2 .9-2 2v14c0 1.1.9 2 2 2h14c1.1 0 2-.9 2-2V5c0-1.1-.9-2-2-2zM9 17H7v-7h2v7zm4 0h-2V7h2v10zm4 0h-2v-4h2v4z\"/>\n",
              "    </g>\n",
              "</svg>\n",
              "      </button>\n",
              "\n",
              "<style>\n",
              "  .colab-df-quickchart {\n",
              "      --bg-color: #E8F0FE;\n",
              "      --fill-color: #1967D2;\n",
              "      --hover-bg-color: #E2EBFA;\n",
              "      --hover-fill-color: #174EA6;\n",
              "      --disabled-fill-color: #AAA;\n",
              "      --disabled-bg-color: #DDD;\n",
              "  }\n",
              "\n",
              "  [theme=dark] .colab-df-quickchart {\n",
              "      --bg-color: #3B4455;\n",
              "      --fill-color: #D2E3FC;\n",
              "      --hover-bg-color: #434B5C;\n",
              "      --hover-fill-color: #FFFFFF;\n",
              "      --disabled-bg-color: #3B4455;\n",
              "      --disabled-fill-color: #666;\n",
              "  }\n",
              "\n",
              "  .colab-df-quickchart {\n",
              "    background-color: var(--bg-color);\n",
              "    border: none;\n",
              "    border-radius: 50%;\n",
              "    cursor: pointer;\n",
              "    display: none;\n",
              "    fill: var(--fill-color);\n",
              "    height: 32px;\n",
              "    padding: 0;\n",
              "    width: 32px;\n",
              "  }\n",
              "\n",
              "  .colab-df-quickchart:hover {\n",
              "    background-color: var(--hover-bg-color);\n",
              "    box-shadow: 0 1px 2px rgba(60, 64, 67, 0.3), 0 1px 3px 1px rgba(60, 64, 67, 0.15);\n",
              "    fill: var(--button-hover-fill-color);\n",
              "  }\n",
              "\n",
              "  .colab-df-quickchart-complete:disabled,\n",
              "  .colab-df-quickchart-complete:disabled:hover {\n",
              "    background-color: var(--disabled-bg-color);\n",
              "    fill: var(--disabled-fill-color);\n",
              "    box-shadow: none;\n",
              "  }\n",
              "\n",
              "  .colab-df-spinner {\n",
              "    border: 2px solid var(--fill-color);\n",
              "    border-color: transparent;\n",
              "    border-bottom-color: var(--fill-color);\n",
              "    animation:\n",
              "      spin 1s steps(1) infinite;\n",
              "  }\n",
              "\n",
              "  @keyframes spin {\n",
              "    0% {\n",
              "      border-color: transparent;\n",
              "      border-bottom-color: var(--fill-color);\n",
              "      border-left-color: var(--fill-color);\n",
              "    }\n",
              "    20% {\n",
              "      border-color: transparent;\n",
              "      border-left-color: var(--fill-color);\n",
              "      border-top-color: var(--fill-color);\n",
              "    }\n",
              "    30% {\n",
              "      border-color: transparent;\n",
              "      border-left-color: var(--fill-color);\n",
              "      border-top-color: var(--fill-color);\n",
              "      border-right-color: var(--fill-color);\n",
              "    }\n",
              "    40% {\n",
              "      border-color: transparent;\n",
              "      border-right-color: var(--fill-color);\n",
              "      border-top-color: var(--fill-color);\n",
              "    }\n",
              "    60% {\n",
              "      border-color: transparent;\n",
              "      border-right-color: var(--fill-color);\n",
              "    }\n",
              "    80% {\n",
              "      border-color: transparent;\n",
              "      border-right-color: var(--fill-color);\n",
              "      border-bottom-color: var(--fill-color);\n",
              "    }\n",
              "    90% {\n",
              "      border-color: transparent;\n",
              "      border-bottom-color: var(--fill-color);\n",
              "    }\n",
              "  }\n",
              "</style>\n",
              "\n",
              "      <script>\n",
              "        async function quickchart(key) {\n",
              "          const quickchartButtonEl =\n",
              "            document.querySelector('#' + key + ' button');\n",
              "          quickchartButtonEl.disabled = true;  // To prevent multiple clicks.\n",
              "          quickchartButtonEl.classList.add('colab-df-spinner');\n",
              "          try {\n",
              "            const charts = await google.colab.kernel.invokeFunction(\n",
              "                'suggestCharts', [key], {});\n",
              "          } catch (error) {\n",
              "            console.error('Error during call to suggestCharts:', error);\n",
              "          }\n",
              "          quickchartButtonEl.classList.remove('colab-df-spinner');\n",
              "          quickchartButtonEl.classList.add('colab-df-quickchart-complete');\n",
              "        }\n",
              "        (() => {\n",
              "          let quickchartButtonEl =\n",
              "            document.querySelector('#df-d7b697b9-3356-4341-827c-23bc54f270ca button');\n",
              "          quickchartButtonEl.style.display =\n",
              "            google.colab.kernel.accessAllowed ? 'block' : 'none';\n",
              "        })();\n",
              "      </script>\n",
              "    </div>\n",
              "\n",
              "    </div>\n",
              "  </div>\n"
            ],
            "application/vnd.google.colaboratory.intrinsic+json": {
              "type": "dataframe",
              "summary": "{\n  \"name\": \"adata\",\n  \"rows\": 5,\n  \"fields\": [\n    {\n      \"column\": \"n_counts\",\n      \"properties\": {\n        \"dtype\": \"float32\",\n        \"num_unique_values\": 5,\n        \"samples\": [\n          2556.0,\n          5205.0,\n          4649.0\n        ],\n        \"semantic_type\": \"\",\n        \"description\": \"\"\n      }\n    },\n    {\n      \"column\": \"n_genes\",\n      \"properties\": {\n        \"dtype\": \"number\",\n        \"std\": 518,\n        \"min\": 277,\n        \"max\": 1505,\n        \"num_unique_values\": 5,\n        \"samples\": [\n          1021,\n          1505,\n          1466\n        ],\n        \"semantic_type\": \"\",\n        \"description\": \"\"\n      }\n    },\n    {\n      \"column\": \"percent_mito\",\n      \"properties\": {\n        \"dtype\": \"float32\",\n        \"num_unique_values\": 1,\n        \"samples\": [\n          0.0\n        ],\n        \"semantic_type\": \"\",\n        \"description\": \"\"\n      }\n    }\n  ]\n}"
            }
          },
          "metadata": {},
          "execution_count": 8
        }
      ],
      "source": [
        "\n",
        "adata.obs['n_counts'] = adata.X.sum(axis=1).A1 if hasattr(adata.X, 'A1') else adata.X.sum(axis=1)\n",
        "adata.obs['n_genes'] = (adata.X > 0).sum(axis=1).A1 if hasattr(adata.X, 'A1') else (adata.X > 0).sum(axis=1)\n",
        "adata.var['mt'] = adata.var_names.str.upper().str.startswith('MT-')\n",
        "adata.obs['percent_mito'] = (\n",
        "    adata[:, adata.var['mt']].X.sum(axis=1).A1 / adata.obs['n_counts']\n",
        "    if hasattr(adata.X, 'A1') else\n",
        "    np.array(adata[:, adata.var['mt']].X.sum(axis=1)).flatten() / adata.obs['n_counts']\n",
        ")\n",
        "adata.obs[['n_counts', 'n_genes', 'percent_mito']].head()\n"
      ]
    },
    {
      "cell_type": "code",
      "source": [
        "sc.pp.qc_matrix(adata,\n",
        "                percent_top=None,\n",
        "                log1p=False)"
      ],
      "metadata": {
        "colab": {
          "base_uri": "https://localhost:8080/",
          "height": 176
        },
        "id": "TPTJfU6eAhSo",
        "outputId": "7f21a0d1-8aa6-450d-f28d-e1072cf5ba18"
      },
      "id": "TPTJfU6eAhSo",
      "execution_count": null,
      "outputs": [
        {
          "output_type": "error",
          "ename": "AttributeError",
          "evalue": "module 'scanpy.preprocessing' has no attribute 'qc_matrix'",
          "traceback": [
            "\u001b[0;31m---------------------------------------------------------------------------\u001b[0m",
            "\u001b[0;31mAttributeError\u001b[0m                            Traceback (most recent call last)",
            "\u001b[0;32m/tmp/ipython-input-11-4075445406.py\u001b[0m in \u001b[0;36m<cell line: 0>\u001b[0;34m()\u001b[0m\n\u001b[0;32m----> 1\u001b[0;31m sc.pp.qc_matrix(adata,\n\u001b[0m\u001b[1;32m      2\u001b[0m                 \u001b[0mpercent_top\u001b[0m\u001b[0;34m=\u001b[0m\u001b[0;32mNone\u001b[0m\u001b[0;34m,\u001b[0m\u001b[0;34m\u001b[0m\u001b[0;34m\u001b[0m\u001b[0m\n\u001b[1;32m      3\u001b[0m                 log1p=False)\n",
            "\u001b[0;31mAttributeError\u001b[0m: module 'scanpy.preprocessing' has no attribute 'qc_matrix'"
          ]
        }
      ]
    },
    {
      "cell_type": "code",
      "source": [],
      "metadata": {
        "id": "704ApakKB3sK"
      },
      "id": "704ApakKB3sK",
      "execution_count": null,
      "outputs": []
    },
    {
      "cell_type": "markdown",
      "id": "ab85a896",
      "metadata": {
        "id": "ab85a896"
      },
      "source": [
        "## Step 4: Visualize QC Metrics"
      ]
    },
    {
      "cell_type": "markdown",
      "id": "744df0b6",
      "metadata": {
        "id": "744df0b6"
      },
      "source": [
        "\n",
        "These plots help us determine thresholds for filtering low-quality cells.\n"
      ]
    },
    {
      "cell_type": "code",
      "execution_count": null,
      "id": "e984d7d2",
      "metadata": {
        "id": "e984d7d2",
        "colab": {
          "base_uri": "https://localhost:8080/",
          "height": 547
        },
        "outputId": "c48206c5-9244-4fbb-8c25-b9c77339c473"
      },
      "outputs": [
        {
          "output_type": "error",
          "ename": "KeyError",
          "evalue": "'n_counts'",
          "traceback": [
            "\u001b[0;31m---------------------------------------------------------------------------\u001b[0m",
            "\u001b[0;31mKeyError\u001b[0m                                  Traceback (most recent call last)",
            "\u001b[0;32m/usr/local/lib/python3.11/dist-packages/pandas/core/indexes/base.py\u001b[0m in \u001b[0;36mget_loc\u001b[0;34m(self, key)\u001b[0m\n\u001b[1;32m   3804\u001b[0m         \u001b[0;32mtry\u001b[0m\u001b[0;34m:\u001b[0m\u001b[0;34m\u001b[0m\u001b[0;34m\u001b[0m\u001b[0m\n\u001b[0;32m-> 3805\u001b[0;31m             \u001b[0;32mreturn\u001b[0m \u001b[0mself\u001b[0m\u001b[0;34m.\u001b[0m\u001b[0m_engine\u001b[0m\u001b[0;34m.\u001b[0m\u001b[0mget_loc\u001b[0m\u001b[0;34m(\u001b[0m\u001b[0mcasted_key\u001b[0m\u001b[0;34m)\u001b[0m\u001b[0;34m\u001b[0m\u001b[0;34m\u001b[0m\u001b[0m\n\u001b[0m\u001b[1;32m   3806\u001b[0m         \u001b[0;32mexcept\u001b[0m \u001b[0mKeyError\u001b[0m \u001b[0;32mas\u001b[0m \u001b[0merr\u001b[0m\u001b[0;34m:\u001b[0m\u001b[0;34m\u001b[0m\u001b[0;34m\u001b[0m\u001b[0m\n",
            "\u001b[0;32mindex.pyx\u001b[0m in \u001b[0;36mpandas._libs.index.IndexEngine.get_loc\u001b[0;34m()\u001b[0m\n",
            "\u001b[0;32mindex.pyx\u001b[0m in \u001b[0;36mpandas._libs.index.IndexEngine.get_loc\u001b[0;34m()\u001b[0m\n",
            "\u001b[0;32mpandas/_libs/hashtable_class_helper.pxi\u001b[0m in \u001b[0;36mpandas._libs.hashtable.PyObjectHashTable.get_item\u001b[0;34m()\u001b[0m\n",
            "\u001b[0;32mpandas/_libs/hashtable_class_helper.pxi\u001b[0m in \u001b[0;36mpandas._libs.hashtable.PyObjectHashTable.get_item\u001b[0;34m()\u001b[0m\n",
            "\u001b[0;31mKeyError\u001b[0m: 'n_counts'",
            "\nThe above exception was the direct cause of the following exception:\n",
            "\u001b[0;31mKeyError\u001b[0m                                  Traceback (most recent call last)",
            "\u001b[0;32m/tmp/ipython-input-7-1594453564.py\u001b[0m in \u001b[0;36m<cell line: 0>\u001b[0;34m()\u001b[0m\n\u001b[0;32m----> 1\u001b[0;31m \u001b[0msns\u001b[0m\u001b[0;34m.\u001b[0m\u001b[0mhistplot\u001b[0m\u001b[0;34m(\u001b[0m\u001b[0madata\u001b[0m\u001b[0;34m.\u001b[0m\u001b[0mobs\u001b[0m\u001b[0;34m[\u001b[0m\u001b[0;34m'n_counts'\u001b[0m\u001b[0;34m]\u001b[0m\u001b[0;34m,\u001b[0m \u001b[0mbins\u001b[0m\u001b[0;34m=\u001b[0m\u001b[0;36m50\u001b[0m\u001b[0;34m,\u001b[0m \u001b[0mkde\u001b[0m\u001b[0;34m=\u001b[0m\u001b[0;32mTrue\u001b[0m\u001b[0;34m)\u001b[0m\u001b[0;34m\u001b[0m\u001b[0;34m\u001b[0m\u001b[0m\n\u001b[0m\u001b[1;32m      2\u001b[0m \u001b[0mplt\u001b[0m\u001b[0;34m.\u001b[0m\u001b[0mtitle\u001b[0m\u001b[0;34m(\u001b[0m\u001b[0;34m\"Total Counts per Cell\"\u001b[0m\u001b[0;34m)\u001b[0m\u001b[0;34m\u001b[0m\u001b[0;34m\u001b[0m\u001b[0m\n\u001b[1;32m      3\u001b[0m \u001b[0mplt\u001b[0m\u001b[0;34m.\u001b[0m\u001b[0mshow\u001b[0m\u001b[0;34m(\u001b[0m\u001b[0;34m)\u001b[0m\u001b[0;34m\u001b[0m\u001b[0;34m\u001b[0m\u001b[0m\n\u001b[1;32m      4\u001b[0m \u001b[0;34m\u001b[0m\u001b[0m\n\u001b[1;32m      5\u001b[0m \u001b[0msns\u001b[0m\u001b[0;34m.\u001b[0m\u001b[0mhistplot\u001b[0m\u001b[0;34m(\u001b[0m\u001b[0madata\u001b[0m\u001b[0;34m.\u001b[0m\u001b[0mobs\u001b[0m\u001b[0;34m[\u001b[0m\u001b[0;34m'n_genes'\u001b[0m\u001b[0;34m]\u001b[0m\u001b[0;34m,\u001b[0m \u001b[0mbins\u001b[0m\u001b[0;34m=\u001b[0m\u001b[0;36m50\u001b[0m\u001b[0;34m,\u001b[0m \u001b[0mkde\u001b[0m\u001b[0;34m=\u001b[0m\u001b[0;32mTrue\u001b[0m\u001b[0;34m)\u001b[0m\u001b[0;34m\u001b[0m\u001b[0;34m\u001b[0m\u001b[0m\n",
            "\u001b[0;32m/usr/local/lib/python3.11/dist-packages/pandas/core/frame.py\u001b[0m in \u001b[0;36m__getitem__\u001b[0;34m(self, key)\u001b[0m\n\u001b[1;32m   4100\u001b[0m             \u001b[0;32mif\u001b[0m \u001b[0mself\u001b[0m\u001b[0;34m.\u001b[0m\u001b[0mcolumns\u001b[0m\u001b[0;34m.\u001b[0m\u001b[0mnlevels\u001b[0m \u001b[0;34m>\u001b[0m \u001b[0;36m1\u001b[0m\u001b[0;34m:\u001b[0m\u001b[0;34m\u001b[0m\u001b[0;34m\u001b[0m\u001b[0m\n\u001b[1;32m   4101\u001b[0m                 \u001b[0;32mreturn\u001b[0m \u001b[0mself\u001b[0m\u001b[0;34m.\u001b[0m\u001b[0m_getitem_multilevel\u001b[0m\u001b[0;34m(\u001b[0m\u001b[0mkey\u001b[0m\u001b[0;34m)\u001b[0m\u001b[0;34m\u001b[0m\u001b[0;34m\u001b[0m\u001b[0m\n\u001b[0;32m-> 4102\u001b[0;31m             \u001b[0mindexer\u001b[0m \u001b[0;34m=\u001b[0m \u001b[0mself\u001b[0m\u001b[0;34m.\u001b[0m\u001b[0mcolumns\u001b[0m\u001b[0;34m.\u001b[0m\u001b[0mget_loc\u001b[0m\u001b[0;34m(\u001b[0m\u001b[0mkey\u001b[0m\u001b[0;34m)\u001b[0m\u001b[0;34m\u001b[0m\u001b[0;34m\u001b[0m\u001b[0m\n\u001b[0m\u001b[1;32m   4103\u001b[0m             \u001b[0;32mif\u001b[0m \u001b[0mis_integer\u001b[0m\u001b[0;34m(\u001b[0m\u001b[0mindexer\u001b[0m\u001b[0;34m)\u001b[0m\u001b[0;34m:\u001b[0m\u001b[0;34m\u001b[0m\u001b[0;34m\u001b[0m\u001b[0m\n\u001b[1;32m   4104\u001b[0m                 \u001b[0mindexer\u001b[0m \u001b[0;34m=\u001b[0m \u001b[0;34m[\u001b[0m\u001b[0mindexer\u001b[0m\u001b[0;34m]\u001b[0m\u001b[0;34m\u001b[0m\u001b[0;34m\u001b[0m\u001b[0m\n",
            "\u001b[0;32m/usr/local/lib/python3.11/dist-packages/pandas/core/indexes/base.py\u001b[0m in \u001b[0;36mget_loc\u001b[0;34m(self, key)\u001b[0m\n\u001b[1;32m   3810\u001b[0m             ):\n\u001b[1;32m   3811\u001b[0m                 \u001b[0;32mraise\u001b[0m \u001b[0mInvalidIndexError\u001b[0m\u001b[0;34m(\u001b[0m\u001b[0mkey\u001b[0m\u001b[0;34m)\u001b[0m\u001b[0;34m\u001b[0m\u001b[0;34m\u001b[0m\u001b[0m\n\u001b[0;32m-> 3812\u001b[0;31m             \u001b[0;32mraise\u001b[0m \u001b[0mKeyError\u001b[0m\u001b[0;34m(\u001b[0m\u001b[0mkey\u001b[0m\u001b[0;34m)\u001b[0m \u001b[0;32mfrom\u001b[0m \u001b[0merr\u001b[0m\u001b[0;34m\u001b[0m\u001b[0;34m\u001b[0m\u001b[0m\n\u001b[0m\u001b[1;32m   3813\u001b[0m         \u001b[0;32mexcept\u001b[0m \u001b[0mTypeError\u001b[0m\u001b[0;34m:\u001b[0m\u001b[0;34m\u001b[0m\u001b[0;34m\u001b[0m\u001b[0m\n\u001b[1;32m   3814\u001b[0m             \u001b[0;31m# If we have a listlike key, _check_indexing_error will raise\u001b[0m\u001b[0;34m\u001b[0m\u001b[0;34m\u001b[0m\u001b[0m\n",
            "\u001b[0;31mKeyError\u001b[0m: 'n_counts'"
          ]
        }
      ],
      "source": [
        "\n",
        "sns.histplot(adata.obs['n_counts'], bins=50, kde=True)\n",
        "plt.title(\"Total Counts per Cell\")\n",
        "plt.show()\n",
        "\n",
        "sns.histplot(adata.obs['n_genes'], bins=50, kde=True)\n",
        "plt.title(\"Number of Genes per Cell\")\n",
        "plt.show()\n",
        "\n",
        "sns.histplot(adata.obs['percent_mito'], bins=50, kde=True)\n",
        "plt.title(\"Mitochondrial Gene Percentage\")\n",
        "plt.show()\n"
      ]
    },
    {
      "cell_type": "markdown",
      "id": "da7c271d",
      "metadata": {
        "id": "da7c271d"
      },
      "source": [
        "## Step 5: Saving the checkpoint file"
      ]
    },
    {
      "cell_type": "markdown",
      "id": "1004b31e",
      "metadata": {
        "id": "1004b31e"
      },
      "source": [
        "Saving the checkpoint file in .h5ad format for further analysis"
      ]
    },
    {
      "cell_type": "code",
      "execution_count": null,
      "id": "3853b2ea",
      "metadata": {
        "id": "3853b2ea"
      },
      "outputs": [],
      "source": [
        "adata.write('/content/adata.h5ad')"
      ]
    },
    {
      "cell_type": "code",
      "execution_count": null,
      "id": "cf15b2bc",
      "metadata": {
        "id": "cf15b2bc"
      },
      "outputs": [],
      "source": [
        "adata = sc.read_h5ad('/content/adata.h5ad')\n",
        "adata\n"
      ]
    },
    {
      "cell_type": "markdown",
      "id": "aa6f22cb",
      "metadata": {
        "id": "aa6f22cb"
      },
      "source": [
        "## Summary"
      ]
    },
    {
      "cell_type": "markdown",
      "id": "cbbcafb9",
      "metadata": {
        "id": "cbbcafb9"
      },
      "source": [
        "Tasks accomplished\n",
        "\n",
        "- Imported a 10x matrix using Scanpy\n",
        "- Explored the basic structure of the dataset\n",
        "- Computed standard quality control metrics\n",
        "- Visualized those metrics to assist in cell filtering\n",
        "\n",
        "This forms the foundation for preprocessing before clustering and downstream analysis.\n"
      ]
    },
    {
      "cell_type": "markdown",
      "id": "fa76e0d0",
      "metadata": {
        "id": "fa76e0d0"
      },
      "source": [
        "# Filtering and Normalizing (Pre-processing) scRNA-seq Data with Scanpy"
      ]
    },
    {
      "cell_type": "markdown",
      "id": "96ab6646",
      "metadata": {
        "id": "96ab6646"
      },
      "source": [
        "\n",
        "This notebook guides you through:\n",
        "1. Filtering cells based on quality control (QC) metrics\n",
        "2. Normalizing single-cell RNA sequencing data using UMI counts\n",
        "\n",
        "We use the PBMC3k dataset provided by Scanpy for demonstration. All steps include explanations to help you understand the rationale behind each decision.\n"
      ]
    },
    {
      "cell_type": "code",
      "execution_count": null,
      "id": "130e6dcb",
      "metadata": {
        "id": "130e6dcb"
      },
      "outputs": [],
      "source": [
        "pip install scanpy"
      ]
    },
    {
      "cell_type": "code",
      "execution_count": null,
      "id": "0a25b5ea",
      "metadata": {
        "id": "0a25b5ea"
      },
      "outputs": [],
      "source": [
        "\n",
        "import scanpy as sc\n",
        "import matplotlib.pyplot as plt\n",
        "import seaborn as sns\n",
        "import numpy as np\n",
        "import os\n",
        "\n",
        "sc.set_figure_params(scanpy=True, dpi=100)\n"
      ]
    },
    {
      "cell_type": "markdown",
      "id": "80587ad0",
      "metadata": {
        "id": "80587ad0"
      },
      "source": [
        "## Step 1: Load 10x Dataset"
      ]
    },
    {
      "cell_type": "markdown",
      "id": "4b8692b4",
      "metadata": {
        "id": "4b8692b4"
      },
      "source": [
        "We will import the h5ad file, which was generated using scRNAseq dataset that we have created after the first lecture"
      ]
    },
    {
      "cell_type": "code",
      "execution_count": null,
      "id": "f6a98318",
      "metadata": {
        "id": "f6a98318"
      },
      "outputs": [],
      "source": [
        "\n",
        "# Download and read the PBMC3k dataset\n",
        "adata = sc.read_h5ad()\n",
        "adata.var_names_make_unique()\n",
        "adata\n"
      ]
    },
    {
      "cell_type": "markdown",
      "id": "bd9fd160",
      "metadata": {
        "id": "bd9fd160"
      },
      "source": [
        "## Step 2: Compute QC Metrics"
      ]
    },
    {
      "cell_type": "code",
      "execution_count": null,
      "id": "0c34e097",
      "metadata": {
        "id": "0c34e097"
      },
      "outputs": [],
      "source": [
        "adata.X.shape"
      ]
    },
    {
      "cell_type": "code",
      "execution_count": null,
      "id": "ae54be19",
      "metadata": {
        "id": "ae54be19"
      },
      "outputs": [],
      "source": [
        "\n",
        "adata.obs['n_counts'] = adata.X.sum(axis=1).A1 if hasattr(adata.X, 'A1') else adata.X.sum(axis=1)\n",
        "adata.obs['n_genes'] = (adata.X > 0).sum(axis=1).A1 if hasattr(adata.X, 'A1') else (adata.X > 0).sum(axis=1)\n",
        "adata.var['mt'] = adata.var_names.str.upper().str.startswith('MT-')\n",
        "adata.obs['percent_mito'] = (\n",
        "    adata[:, adata.var['mt']].X.sum(axis=1).A1 / adata.obs['n_counts']\n",
        "    if hasattr(adata.X, 'A1') else\n",
        "    np.array(adata[:, adata.var['mt']].X.sum(axis=1)).flatten() / adata.obs['n_counts']\n",
        ")\n"
      ]
    },
    {
      "cell_type": "markdown",
      "id": "d399cc73",
      "metadata": {
        "id": "d399cc73"
      },
      "source": [
        "## Step 3: Visualize QC Distributions"
      ]
    },
    {
      "cell_type": "code",
      "execution_count": null,
      "id": "725c5521",
      "metadata": {
        "id": "725c5521"
      },
      "outputs": [],
      "source": [
        "\n",
        "fig, axs = plt.subplots(1, 3, figsize=(15, 4))\n",
        "sns.histplot(adata.obs['n_counts'], bins=50, ax=axs[0]); axs[0].set_title(\"Total Counts\")\n",
        "sns.histplot(adata.obs['n_genes'], bins=50, ax=axs[1]); axs[1].set_title(\"Genes per Cell\")\n",
        "sns.histplot(adata.obs['percent_mito'], bins=50, ax=axs[2]); axs[2].set_title(\"Mito %\")\n",
        "plt.tight_layout()\n",
        "plt.show()\n"
      ]
    },
    {
      "cell_type": "markdown",
      "id": "378d58bf",
      "metadata": {
        "id": "378d58bf"
      },
      "source": [
        "## Step 4: Filter Low-Quality Cells"
      ]
    },
    {
      "cell_type": "code",
      "execution_count": null,
      "id": "091ebed7",
      "metadata": {
        "id": "091ebed7"
      },
      "outputs": [],
      "source": [
        "\n",
        "adata = adata[adata.obs['n_genes'] > 200, :]\n",
        "adata = adata[adata.obs['n_genes'] < 2500, :]\n",
        "adata = adata[adata.obs['percent_mito'] < 0.05, :]\n"
      ]
    },
    {
      "cell_type": "markdown",
      "id": "9e5f04bb",
      "metadata": {
        "id": "9e5f04bb"
      },
      "source": [
        "## Step 5: Normalize UMI Counts per Cell"
      ]
    },
    {
      "cell_type": "code",
      "execution_count": null,
      "id": "cc835181",
      "metadata": {
        "id": "cc835181"
      },
      "outputs": [],
      "source": [
        "\n",
        "sc.pp.normalize_total(adata, target_sum=1e4)\n",
        "sc.pp.log1p(adata)\n"
      ]
    },
    {
      "cell_type": "markdown",
      "id": "a8739c4b",
      "metadata": {
        "id": "a8739c4b"
      },
      "source": [
        "## Step 6: Store Raw Data"
      ]
    },
    {
      "cell_type": "code",
      "execution_count": null,
      "id": "9e1536cd",
      "metadata": {
        "id": "9e1536cd"
      },
      "outputs": [],
      "source": [
        "adata.raw = adata"
      ]
    },
    {
      "cell_type": "markdown",
      "id": "f5d6fd0d",
      "metadata": {
        "id": "f5d6fd0d"
      },
      "source": [
        "## Premade filtering tool is also available"
      ]
    },
    {
      "cell_type": "code",
      "execution_count": null,
      "id": "47f3b59d",
      "metadata": {
        "id": "47f3b59d"
      },
      "outputs": [],
      "source": [
        "sc.pp.recipe_zheng17(adata)\n"
      ]
    },
    {
      "cell_type": "markdown",
      "id": "2a0fb66f",
      "metadata": {
        "id": "2a0fb66f"
      },
      "source": [
        "## Summary"
      ]
    },
    {
      "cell_type": "markdown",
      "id": "0f915e3f",
      "metadata": {
        "id": "0f915e3f"
      },
      "source": [
        "\n",
        "You have:\n",
        "- Computed and visualized quality control metrics\n",
        "- Filtered low-quality cells\n",
        "- Normalized gene expression counts for downstream analysis\n",
        "\n",
        "Next steps might include: identifying highly variable genes, scaling, PCA, clustering, and visualization.\n"
      ]
    },
    {
      "cell_type": "markdown",
      "id": "ee934a12",
      "metadata": {
        "id": "ee934a12"
      },
      "source": [
        "# Importing `.h5ad` scRNA-seq Data, Dimension Reduction and Clustering"
      ]
    },
    {
      "cell_type": "markdown",
      "id": "1523338a",
      "metadata": {
        "id": "1523338a"
      },
      "source": [
        "\n",
        "This notebook demonstrates how to:\n",
        "1. Import single-cell RNA-seq data from `.h5ad` files (AnnData format)\n",
        "2. Perform dimensionality reduction (PCA, UMAP, t-SNE)\n",
        "3. Construct a nearest-neighbor graph and cluster the cells\n",
        "\n",
        "Each step includes a detailed explanation of its purpose and statistical meaning in single-cell analysis.\n"
      ]
    },
    {
      "cell_type": "code",
      "execution_count": null,
      "id": "9092bacf",
      "metadata": {
        "id": "9092bacf"
      },
      "outputs": [],
      "source": [
        "\n",
        "import scanpy as sc\n",
        "import pandas as pd\n",
        "import numpy as np\n",
        "import matplotlib.pyplot as plt\n",
        "import seaborn as sns\n",
        "\n",
        "sc.set_figure_params(scanpy=True, dpi=100)\n"
      ]
    },
    {
      "cell_type": "markdown",
      "id": "a4b37445",
      "metadata": {
        "id": "a4b37445"
      },
      "source": [
        "## Step 1: Load `.h5ad` Dataset"
      ]
    },
    {
      "cell_type": "markdown",
      "id": "441b6d10",
      "metadata": {
        "id": "441b6d10"
      },
      "source": [
        "\n",
        "The `.h5ad` file format is used to store **AnnData** objects — the standard format for single-cell datasets in Python.\n"
      ]
    },
    {
      "cell_type": "code",
      "execution_count": null,
      "id": "ac7acfaa",
      "metadata": {
        "id": "ac7acfaa"
      },
      "outputs": [],
      "source": [
        "\n",
        "# Replace 'your_file.h5ad' with your actual file path\n",
        "adata = sc.read_h5ad(\"your_file.h5ad\")\n",
        "adata\n"
      ]
    },
    {
      "cell_type": "markdown",
      "id": "91207ab8",
      "metadata": {
        "id": "91207ab8"
      },
      "source": [
        "## Step 2: Identify Highly Variable Genes (HVGs)"
      ]
    },
    {
      "cell_type": "markdown",
      "id": "b861155f",
      "metadata": {
        "id": "b861155f"
      },
      "source": [
        "\n",
        "HVGs are genes that show meaningful variation across cells and are more likely to contribute to biological differences.\n"
      ]
    },
    {
      "cell_type": "code",
      "execution_count": null,
      "id": "440b255d",
      "metadata": {
        "id": "440b255d"
      },
      "outputs": [],
      "source": [
        "\n",
        "sc.pp.highly_variable_genes(adata, n_top_genes=2000, subset=True)\n"
      ]
    },
    {
      "cell_type": "markdown",
      "id": "f9d13ebc",
      "metadata": {
        "id": "f9d13ebc"
      },
      "source": [
        "## Step 3: Principal Component Analysis (PCA)"
      ]
    },
    {
      "cell_type": "markdown",
      "id": "225cea29",
      "metadata": {
        "id": "225cea29"
      },
      "source": [
        "\n",
        "**PCA (Principal Component Analysis)** reduces data dimensionality by finding new variables (principal components) that explain the maximum variance in the data.  \n",
        "It helps to remove noise and identify major axes of variation.\n"
      ]
    },
    {
      "cell_type": "code",
      "execution_count": null,
      "id": "d11667cc",
      "metadata": {
        "id": "d11667cc"
      },
      "outputs": [],
      "source": [
        "\n",
        "sc.pp.scale(adata, max_value=10)\n",
        "sc.tl.pca(adata, svd_solver='arpack')\n",
        "sc.pl.pca(adata, color='IDH1')  # replace CST3 with a gene present in your dataset\n"
      ]
    },
    {
      "cell_type": "markdown",
      "id": "f24a9985",
      "metadata": {
        "id": "f24a9985"
      },
      "source": [
        "## Step 4: Compute Nearest-Neighbor Graph"
      ]
    },
    {
      "cell_type": "markdown",
      "id": "ad834da3",
      "metadata": {
        "id": "ad834da3"
      },
      "source": [
        "\n",
        "Before clustering or non-linear dimension reduction, we compute a nearest-neighbor graph:\n",
        "- It represents the **local structure** of the data\n",
        "- Clustering and UMAP/t-SNE rely on this graph\n",
        "\n",
        "**Neighboring** means connecting each cell to its `k` most similar cells in the PCA space.\n"
      ]
    },
    {
      "cell_type": "code",
      "execution_count": null,
      "id": "dc0b1a9f",
      "metadata": {
        "id": "dc0b1a9f"
      },
      "outputs": [],
      "source": [
        "\n",
        "sc.pp.neighbors(adata, n_neighbors=10, n_pcs=40)\n"
      ]
    },
    {
      "cell_type": "markdown",
      "id": "a369a7ac",
      "metadata": {
        "id": "a369a7ac"
      },
      "source": [
        "## Step 5: Uniform Manifold Approximation and Projection (UMAP)"
      ]
    },
    {
      "cell_type": "markdown",
      "id": "3cc11da4",
      "metadata": {
        "id": "3cc11da4"
      },
      "source": [
        "\n",
        "**UMAP** is a non-linear dimensionality reduction technique that preserves both local and global structures better than t-SNE.  \n",
        "It creates a 2D or 3D embedding of the data based on the nearest-neighbor graph.\n"
      ]
    },
    {
      "cell_type": "code",
      "execution_count": null,
      "id": "b6e15ac0",
      "metadata": {
        "id": "b6e15ac0"
      },
      "outputs": [],
      "source": [
        "\n",
        "sc.tl.umap(adata)\n",
        "sc.pl.umap(adata, color=['CST3'])  # Replace with any metadata or gene name\n"
      ]
    },
    {
      "cell_type": "markdown",
      "id": "dded1868",
      "metadata": {
        "id": "dded1868"
      },
      "source": [
        "## Step 6: t-SNE"
      ]
    },
    {
      "cell_type": "markdown",
      "id": "bf4774a9",
      "metadata": {
        "id": "bf4774a9"
      },
      "source": [
        "\n",
        "**t-SNE (t-distributed Stochastic Neighbor Embedding)** is another non-linear method that focuses on preserving **local neighborhood** relationships.  \n",
        "It is useful for visualizing clusters but is sensitive to noise and parameter choice.\n"
      ]
    },
    {
      "cell_type": "code",
      "execution_count": null,
      "id": "e72dad3f",
      "metadata": {
        "id": "e72dad3f"
      },
      "outputs": [],
      "source": [
        "\n",
        "sc.tl.tsne(adata)\n",
        "sc.pl.tsne(adata, color=['CST3'])  # Replace with any gene/cluster label\n"
      ]
    },
    {
      "cell_type": "markdown",
      "id": "82caacf7",
      "metadata": {
        "id": "82caacf7"
      },
      "source": [
        "## Step 7: Clustering the Cells"
      ]
    },
    {
      "cell_type": "markdown",
      "id": "4586b2b2",
      "metadata": {
        "id": "4586b2b2"
      },
      "source": [
        "\n",
        "Clustering groups cells with **similar gene expression profiles** together based on the neighbor graph.\n",
        "\n",
        "We use the **Leiden algorithm**, which finds communities (clusters) in the graph.  \n",
        "Each cluster may represent a **cell type**, **state**, or **subpopulation**.\n"
      ]
    },
    {
      "cell_type": "code",
      "execution_count": null,
      "id": "263c4949",
      "metadata": {
        "id": "263c4949"
      },
      "outputs": [],
      "source": [
        "\n",
        "sc.tl.leiden(adata, resolution=0.5)\n",
        "sc.pl.umap(adata, color='leiden')\n"
      ]
    },
    {
      "cell_type": "markdown",
      "id": "ed01fc62",
      "metadata": {
        "id": "ed01fc62"
      },
      "source": [
        "## ✅ Summary"
      ]
    },
    {
      "cell_type": "markdown",
      "id": "056de9dd",
      "metadata": {
        "id": "056de9dd"
      },
      "source": [
        "\n",
        "In this notebook, we:\n",
        "- Imported `.h5ad` data\n",
        "- Reduced dimensionality using PCA, UMAP, and t-SNE\n",
        "- Built a nearest-neighbor graph and clustered the cells\n",
        "\n",
        "These steps provide the foundation for downstream interpretation of cell states, types, and functions.\n"
      ]
    }
  ],
  "metadata": {
    "language_info": {
      "name": "python"
    },
    "colab": {
      "provenance": [],
      "include_colab_link": true
    },
    "kernelspec": {
      "name": "python3",
      "display_name": "Python 3"
    },
    "widgets": {
      "application/vnd.jupyter.widget-state+json": {
        "452586dce25744f5b353217f1642e9a0": {
          "model_module": "@jupyter-widgets/controls",
          "model_name": "HBoxModel",
          "model_module_version": "1.5.0",
          "state": {
            "_dom_classes": [],
            "_model_module": "@jupyter-widgets/controls",
            "_model_module_version": "1.5.0",
            "_model_name": "HBoxModel",
            "_view_count": null,
            "_view_module": "@jupyter-widgets/controls",
            "_view_module_version": "1.5.0",
            "_view_name": "HBoxView",
            "box_style": "",
            "children": [
              "IPY_MODEL_426d00b08e554bdb9744d12e77d354e3",
              "IPY_MODEL_90624f5ed0e64b0e99f6f83dbd675c4b",
              "IPY_MODEL_76252671e11341388b53aa756a0cd4bf"
            ],
            "layout": "IPY_MODEL_36249594124a4217be0a6a6a5bba1e21"
          }
        },
        "426d00b08e554bdb9744d12e77d354e3": {
          "model_module": "@jupyter-widgets/controls",
          "model_name": "HTMLModel",
          "model_module_version": "1.5.0",
          "state": {
            "_dom_classes": [],
            "_model_module": "@jupyter-widgets/controls",
            "_model_module_version": "1.5.0",
            "_model_name": "HTMLModel",
            "_view_count": null,
            "_view_module": "@jupyter-widgets/controls",
            "_view_module_version": "1.5.0",
            "_view_name": "HTMLView",
            "description": "",
            "description_tooltip": null,
            "layout": "IPY_MODEL_cbd097cf663f45ac84b65fcbe67f62ca",
            "placeholder": "​",
            "style": "IPY_MODEL_26e4ecdafdcd422ca377b7f5e14c0f7a",
            "value": "100%"
          }
        },
        "90624f5ed0e64b0e99f6f83dbd675c4b": {
          "model_module": "@jupyter-widgets/controls",
          "model_name": "FloatProgressModel",
          "model_module_version": "1.5.0",
          "state": {
            "_dom_classes": [],
            "_model_module": "@jupyter-widgets/controls",
            "_model_module_version": "1.5.0",
            "_model_name": "FloatProgressModel",
            "_view_count": null,
            "_view_module": "@jupyter-widgets/controls",
            "_view_module_version": "1.5.0",
            "_view_name": "ProgressView",
            "bar_style": "success",
            "description": "",
            "description_tooltip": null,
            "layout": "IPY_MODEL_2f7a86e0274840bbb17ae9f78b779c1e",
            "max": 10297693,
            "min": 0,
            "orientation": "horizontal",
            "style": "IPY_MODEL_3a13703b807e4a34a3b39aa83a83183f",
            "value": 10297693
          }
        },
        "76252671e11341388b53aa756a0cd4bf": {
          "model_module": "@jupyter-widgets/controls",
          "model_name": "HTMLModel",
          "model_module_version": "1.5.0",
          "state": {
            "_dom_classes": [],
            "_model_module": "@jupyter-widgets/controls",
            "_model_module_version": "1.5.0",
            "_model_name": "HTMLModel",
            "_view_count": null,
            "_view_module": "@jupyter-widgets/controls",
            "_view_module_version": "1.5.0",
            "_view_name": "HTMLView",
            "description": "",
            "description_tooltip": null,
            "layout": "IPY_MODEL_70178ac6883d45568e116eef458395de",
            "placeholder": "​",
            "style": "IPY_MODEL_7caf4d99172047c1bc0daa4f8f3063c4",
            "value": " 9.82M/9.82M [00:02&lt;00:00, 6.30MB/s]"
          }
        },
        "36249594124a4217be0a6a6a5bba1e21": {
          "model_module": "@jupyter-widgets/base",
          "model_name": "LayoutModel",
          "model_module_version": "1.2.0",
          "state": {
            "_model_module": "@jupyter-widgets/base",
            "_model_module_version": "1.2.0",
            "_model_name": "LayoutModel",
            "_view_count": null,
            "_view_module": "@jupyter-widgets/base",
            "_view_module_version": "1.2.0",
            "_view_name": "LayoutView",
            "align_content": null,
            "align_items": null,
            "align_self": null,
            "border": null,
            "bottom": null,
            "display": null,
            "flex": null,
            "flex_flow": null,
            "grid_area": null,
            "grid_auto_columns": null,
            "grid_auto_flow": null,
            "grid_auto_rows": null,
            "grid_column": null,
            "grid_gap": null,
            "grid_row": null,
            "grid_template_areas": null,
            "grid_template_columns": null,
            "grid_template_rows": null,
            "height": null,
            "justify_content": null,
            "justify_items": null,
            "left": null,
            "margin": null,
            "max_height": null,
            "max_width": null,
            "min_height": null,
            "min_width": null,
            "object_fit": null,
            "object_position": null,
            "order": null,
            "overflow": null,
            "overflow_x": null,
            "overflow_y": null,
            "padding": null,
            "right": null,
            "top": null,
            "visibility": null,
            "width": null
          }
        },
        "cbd097cf663f45ac84b65fcbe67f62ca": {
          "model_module": "@jupyter-widgets/base",
          "model_name": "LayoutModel",
          "model_module_version": "1.2.0",
          "state": {
            "_model_module": "@jupyter-widgets/base",
            "_model_module_version": "1.2.0",
            "_model_name": "LayoutModel",
            "_view_count": null,
            "_view_module": "@jupyter-widgets/base",
            "_view_module_version": "1.2.0",
            "_view_name": "LayoutView",
            "align_content": null,
            "align_items": null,
            "align_self": null,
            "border": null,
            "bottom": null,
            "display": null,
            "flex": null,
            "flex_flow": null,
            "grid_area": null,
            "grid_auto_columns": null,
            "grid_auto_flow": null,
            "grid_auto_rows": null,
            "grid_column": null,
            "grid_gap": null,
            "grid_row": null,
            "grid_template_areas": null,
            "grid_template_columns": null,
            "grid_template_rows": null,
            "height": null,
            "justify_content": null,
            "justify_items": null,
            "left": null,
            "margin": null,
            "max_height": null,
            "max_width": null,
            "min_height": null,
            "min_width": null,
            "object_fit": null,
            "object_position": null,
            "order": null,
            "overflow": null,
            "overflow_x": null,
            "overflow_y": null,
            "padding": null,
            "right": null,
            "top": null,
            "visibility": null,
            "width": null
          }
        },
        "26e4ecdafdcd422ca377b7f5e14c0f7a": {
          "model_module": "@jupyter-widgets/controls",
          "model_name": "DescriptionStyleModel",
          "model_module_version": "1.5.0",
          "state": {
            "_model_module": "@jupyter-widgets/controls",
            "_model_module_version": "1.5.0",
            "_model_name": "DescriptionStyleModel",
            "_view_count": null,
            "_view_module": "@jupyter-widgets/base",
            "_view_module_version": "1.2.0",
            "_view_name": "StyleView",
            "description_width": ""
          }
        },
        "2f7a86e0274840bbb17ae9f78b779c1e": {
          "model_module": "@jupyter-widgets/base",
          "model_name": "LayoutModel",
          "model_module_version": "1.2.0",
          "state": {
            "_model_module": "@jupyter-widgets/base",
            "_model_module_version": "1.2.0",
            "_model_name": "LayoutModel",
            "_view_count": null,
            "_view_module": "@jupyter-widgets/base",
            "_view_module_version": "1.2.0",
            "_view_name": "LayoutView",
            "align_content": null,
            "align_items": null,
            "align_self": null,
            "border": null,
            "bottom": null,
            "display": null,
            "flex": null,
            "flex_flow": null,
            "grid_area": null,
            "grid_auto_columns": null,
            "grid_auto_flow": null,
            "grid_auto_rows": null,
            "grid_column": null,
            "grid_gap": null,
            "grid_row": null,
            "grid_template_areas": null,
            "grid_template_columns": null,
            "grid_template_rows": null,
            "height": null,
            "justify_content": null,
            "justify_items": null,
            "left": null,
            "margin": null,
            "max_height": null,
            "max_width": null,
            "min_height": null,
            "min_width": null,
            "object_fit": null,
            "object_position": null,
            "order": null,
            "overflow": null,
            "overflow_x": null,
            "overflow_y": null,
            "padding": null,
            "right": null,
            "top": null,
            "visibility": null,
            "width": null
          }
        },
        "3a13703b807e4a34a3b39aa83a83183f": {
          "model_module": "@jupyter-widgets/controls",
          "model_name": "ProgressStyleModel",
          "model_module_version": "1.5.0",
          "state": {
            "_model_module": "@jupyter-widgets/controls",
            "_model_module_version": "1.5.0",
            "_model_name": "ProgressStyleModel",
            "_view_count": null,
            "_view_module": "@jupyter-widgets/base",
            "_view_module_version": "1.2.0",
            "_view_name": "StyleView",
            "bar_color": null,
            "description_width": ""
          }
        },
        "70178ac6883d45568e116eef458395de": {
          "model_module": "@jupyter-widgets/base",
          "model_name": "LayoutModel",
          "model_module_version": "1.2.0",
          "state": {
            "_model_module": "@jupyter-widgets/base",
            "_model_module_version": "1.2.0",
            "_model_name": "LayoutModel",
            "_view_count": null,
            "_view_module": "@jupyter-widgets/base",
            "_view_module_version": "1.2.0",
            "_view_name": "LayoutView",
            "align_content": null,
            "align_items": null,
            "align_self": null,
            "border": null,
            "bottom": null,
            "display": null,
            "flex": null,
            "flex_flow": null,
            "grid_area": null,
            "grid_auto_columns": null,
            "grid_auto_flow": null,
            "grid_auto_rows": null,
            "grid_column": null,
            "grid_gap": null,
            "grid_row": null,
            "grid_template_areas": null,
            "grid_template_columns": null,
            "grid_template_rows": null,
            "height": null,
            "justify_content": null,
            "justify_items": null,
            "left": null,
            "margin": null,
            "max_height": null,
            "max_width": null,
            "min_height": null,
            "min_width": null,
            "object_fit": null,
            "object_position": null,
            "order": null,
            "overflow": null,
            "overflow_x": null,
            "overflow_y": null,
            "padding": null,
            "right": null,
            "top": null,
            "visibility": null,
            "width": null
          }
        },
        "7caf4d99172047c1bc0daa4f8f3063c4": {
          "model_module": "@jupyter-widgets/controls",
          "model_name": "DescriptionStyleModel",
          "model_module_version": "1.5.0",
          "state": {
            "_model_module": "@jupyter-widgets/controls",
            "_model_module_version": "1.5.0",
            "_model_name": "DescriptionStyleModel",
            "_view_count": null,
            "_view_module": "@jupyter-widgets/base",
            "_view_module_version": "1.2.0",
            "_view_name": "StyleView",
            "description_width": ""
          }
        }
      }
    }
  },
  "nbformat": 4,
  "nbformat_minor": 5
}